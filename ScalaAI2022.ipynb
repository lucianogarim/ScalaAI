{
  "cells": [
    {
      "cell_type": "markdown",
      "metadata": {
        "id": "view-in-github",
        "colab_type": "text"
      },
      "source": [
        "<a href=\"https://colab.research.google.com/github/lucianogarim/ScalaAI/blob/main/ScalaAI2022.ipynb\" target=\"_parent\"><img src=\"https://colab.research.google.com/assets/colab-badge.svg\" alt=\"Open In Colab\"/></a>"
      ]
    },
    {
      "cell_type": "markdown",
      "metadata": {
        "id": "vj6ANoANOvq4"
      },
      "source": [
        "# <font color='blue'> <center> ScalaAI</center> </font> \n",
        "\n",
        "## <center> Escalação Automática e Otimizada de Times do CartolaFC - 2022 </center> \n",
        "###  Escalação na Formação 4-3-3\n",
        "\n",
        "<center><img src = \"https://github.com/lucianogarim/ScalaAI/blob/main/sca.jpg?raw=true\" height = \"350\" width=\"800\"></center> \n",
        "\n",
        "**Novo recurso na versão 2022:** Pontuação mínima para valorizar (funcionalidade do PRO)\n",
        "\n",
        "Para usar este notebook, basta escolher o peso em relação ao número de jogos em que o jogador atuou, o peso em relação a média de jogos, a última pontuação e o peso do valor mínimo para valorizar. Caso não deseja alterar, basta usar os valores padrão.\n",
        "\n",
        "Caso queira, você pode alterar também o número de cartoletas disponíveis, antes de rodar o algoritmo genético.\n",
        "\n",
        "**OBS:** Usar o script apenas quando o mercado do CartolaFC estiver aberto.\n"
      ]
    },
    {
      "cell_type": "markdown",
      "metadata": {
        "id": "7BINm2OuOvq7"
      },
      "source": [
        "Importação dos pacotes necessários"
      ]
    },
    {
      "cell_type": "code",
      "execution_count": 1,
      "metadata": {
        "id": "t9WkgnVoOvq8",
        "outputId": "4253fe0f-549c-47d2-948a-72cd4c15675a",
        "colab": {
          "base_uri": "https://localhost:8080/"
        }
      },
      "outputs": [
        {
          "output_type": "stream",
          "name": "stdout",
          "text": [
            "Using matplotlib backend: agg\n",
            "Populating the interactive namespace from numpy and matplotlib\n"
          ]
        }
      ],
      "source": [
        "%pylab\n",
        "%matplotlib inline\n",
        "import pandas as pd\n",
        "import requests\n",
        "import json\n",
        "import matplotlib.pyplot as plt\n"
      ]
    },
    {
      "cell_type": "markdown",
      "metadata": {
        "id": "ObOdyKQ9Ovq9"
      },
      "source": [
        "Leitura dos dados da API do CartolaFC"
      ]
    },
    {
      "cell_type": "code",
      "execution_count": 2,
      "metadata": {
        "id": "mmLWG8beOvq9"
      },
      "outputs": [],
      "source": [
        "response = requests.get('https://api.cartolafc.globo.com/atletas/mercado')\n",
        "data = json.loads(response.text)\n",
        "atletas = pd.DataFrame(data['atletas'])\n",
        "times = pd.DataFrame(data['clubes']).T"
      ]
    },
    {
      "cell_type": "markdown",
      "metadata": {
        "id": "_y-qK96POvq-"
      },
      "source": [
        "Remove as colunas desnecessárias"
      ]
    },
    {
      "cell_type": "code",
      "execution_count": 3,
      "metadata": {
        "id": "1eFpEyYnOvq-"
      },
      "outputs": [],
      "source": [
        "atletas.drop(['atleta_id','scout', 'slug', 'apelido_abreviado', 'nome', 'foto'],\n",
        "             axis=1, inplace=True)\n",
        "times.drop(['abreviacao', 'escudos', 'nome_fantasia'], axis=1, inplace=True)\n",
        "atletas = atletas[['apelido', 'clube_id', 'posicao_id', 'preco_num', 'pontos_num',\n",
        "                   'variacao_num', 'media_num', 'rodada_id', 'jogos_num','status_id','minimo_para_valorizar']]"
      ]
    },
    {
      "cell_type": "markdown",
      "metadata": {
        "id": "t7nWy6CDOvq_"
      },
      "source": [
        "Organizando os dados"
      ]
    },
    {
      "cell_type": "code",
      "execution_count": 4,
      "metadata": {
        "id": "SfeedEaQOvq_"
      },
      "outputs": [],
      "source": [
        "atletas.posicao_id = atletas.posicao_id.map({1:'Goleiro', 2:'Lateral', 3:'Zagueiro',\n",
        "                                             4:'Meia', 5:'Atacante', 6:'Tecnico'})\n",
        "times_id = times['id'].to_list()\n",
        "times_nome = times['nome'].to_list()\n",
        "dictionary = dict(zip(times_id, times_nome))\n",
        "atletas.clube_id = atletas.clube_id.map(dictionary)\n",
        "#renomeia as colunas\n",
        "atletas.rename(columns={'clube_id': 'clube', 'posicao_id': 'posicao',\n",
        "                        'preco_num': 'preco', 'pontos_num': 'pontos',\n",
        "                        'variacao_num': 'variacao', 'media_num': 'media',\n",
        "                        'rodada_id': 'rodada','jogos_num': 'jogos'}, inplace=True)"
      ]
    },
    {
      "cell_type": "markdown",
      "metadata": {
        "id": "oGMQUVCfOvrA"
      },
      "source": [
        "Considerando a escalação de apenas jogadores prováveis"
      ]
    },
    {
      "cell_type": "code",
      "execution_count": 5,
      "metadata": {
        "id": "7-b55WIoOvrA",
        "outputId": "b89f0436-2ebf-4274-ff33-a1965962c6cf",
        "colab": {
          "base_uri": "https://localhost:8080/",
          "height": 424
        }
      },
      "outputs": [
        {
          "output_type": "execute_result",
          "data": {
            "text/plain": [
              "     index            apelido          clube   posicao  preco  pontos  \\\n",
              "0        0            Cleiton     Bragantino   Goleiro  10.23    8.00   \n",
              "1        1              Fábio     Fluminense   Goleiro  10.33    3.00   \n",
              "2        2             Daniel  Internacional   Goleiro   6.30    7.00   \n",
              "3        3               Hulk    Atlético-MG  Atacante  21.19    5.60   \n",
              "4        4            Aderlan     Bragantino   Lateral   7.66    0.80   \n",
              "..     ...                ...            ...       ...    ...     ...   \n",
              "193    193           Pedrinho     América-MG  Atacante   6.38    2.40   \n",
              "194    194              Tinga      Fortaleza   Lateral   4.23    0.00   \n",
              "195    195             Felipe      Fortaleza      Meia   6.13    0.00   \n",
              "196    196   Eduardo Baptista      Juventude   Tecnico   6.10    2.27   \n",
              "197    197  Rodrigo Fernández         Santos      Meia   4.91   -1.50   \n",
              "\n",
              "     variacao  media  rodada  jogos  minimo_para_valorizar  \n",
              "0        1.19   6.33       3      3                   4.48  \n",
              "1       -0.51   5.00       3      3                   3.03  \n",
              "2        1.57   3.00       3      3                   3.55  \n",
              "3       -1.86  12.25       3      2                   6.29  \n",
              "4       -1.21   3.75       3      2                   1.96  \n",
              "..        ...    ...     ...    ...                    ...  \n",
              "193     -0.38   4.47       3      3                   1.92  \n",
              "194      0.00   0.40       3      1                   0.76  \n",
              "195      0.00   3.25       3      2                   2.19  \n",
              "196     -0.11   3.08       3      3                   1.96  \n",
              "197     -1.23   1.83       3      3                   0.58  \n",
              "\n",
              "[198 rows x 11 columns]"
            ],
            "text/html": [
              "\n",
              "  <div id=\"df-3ca892a8-22ab-42fc-8b63-990605c995db\">\n",
              "    <div class=\"colab-df-container\">\n",
              "      <div>\n",
              "<style scoped>\n",
              "    .dataframe tbody tr th:only-of-type {\n",
              "        vertical-align: middle;\n",
              "    }\n",
              "\n",
              "    .dataframe tbody tr th {\n",
              "        vertical-align: top;\n",
              "    }\n",
              "\n",
              "    .dataframe thead th {\n",
              "        text-align: right;\n",
              "    }\n",
              "</style>\n",
              "<table border=\"1\" class=\"dataframe\">\n",
              "  <thead>\n",
              "    <tr style=\"text-align: right;\">\n",
              "      <th></th>\n",
              "      <th>index</th>\n",
              "      <th>apelido</th>\n",
              "      <th>clube</th>\n",
              "      <th>posicao</th>\n",
              "      <th>preco</th>\n",
              "      <th>pontos</th>\n",
              "      <th>variacao</th>\n",
              "      <th>media</th>\n",
              "      <th>rodada</th>\n",
              "      <th>jogos</th>\n",
              "      <th>minimo_para_valorizar</th>\n",
              "    </tr>\n",
              "  </thead>\n",
              "  <tbody>\n",
              "    <tr>\n",
              "      <th>0</th>\n",
              "      <td>0</td>\n",
              "      <td>Cleiton</td>\n",
              "      <td>Bragantino</td>\n",
              "      <td>Goleiro</td>\n",
              "      <td>10.23</td>\n",
              "      <td>8.00</td>\n",
              "      <td>1.19</td>\n",
              "      <td>6.33</td>\n",
              "      <td>3</td>\n",
              "      <td>3</td>\n",
              "      <td>4.48</td>\n",
              "    </tr>\n",
              "    <tr>\n",
              "      <th>1</th>\n",
              "      <td>1</td>\n",
              "      <td>Fábio</td>\n",
              "      <td>Fluminense</td>\n",
              "      <td>Goleiro</td>\n",
              "      <td>10.33</td>\n",
              "      <td>3.00</td>\n",
              "      <td>-0.51</td>\n",
              "      <td>5.00</td>\n",
              "      <td>3</td>\n",
              "      <td>3</td>\n",
              "      <td>3.03</td>\n",
              "    </tr>\n",
              "    <tr>\n",
              "      <th>2</th>\n",
              "      <td>2</td>\n",
              "      <td>Daniel</td>\n",
              "      <td>Internacional</td>\n",
              "      <td>Goleiro</td>\n",
              "      <td>6.30</td>\n",
              "      <td>7.00</td>\n",
              "      <td>1.57</td>\n",
              "      <td>3.00</td>\n",
              "      <td>3</td>\n",
              "      <td>3</td>\n",
              "      <td>3.55</td>\n",
              "    </tr>\n",
              "    <tr>\n",
              "      <th>3</th>\n",
              "      <td>3</td>\n",
              "      <td>Hulk</td>\n",
              "      <td>Atlético-MG</td>\n",
              "      <td>Atacante</td>\n",
              "      <td>21.19</td>\n",
              "      <td>5.60</td>\n",
              "      <td>-1.86</td>\n",
              "      <td>12.25</td>\n",
              "      <td>3</td>\n",
              "      <td>2</td>\n",
              "      <td>6.29</td>\n",
              "    </tr>\n",
              "    <tr>\n",
              "      <th>4</th>\n",
              "      <td>4</td>\n",
              "      <td>Aderlan</td>\n",
              "      <td>Bragantino</td>\n",
              "      <td>Lateral</td>\n",
              "      <td>7.66</td>\n",
              "      <td>0.80</td>\n",
              "      <td>-1.21</td>\n",
              "      <td>3.75</td>\n",
              "      <td>3</td>\n",
              "      <td>2</td>\n",
              "      <td>1.96</td>\n",
              "    </tr>\n",
              "    <tr>\n",
              "      <th>...</th>\n",
              "      <td>...</td>\n",
              "      <td>...</td>\n",
              "      <td>...</td>\n",
              "      <td>...</td>\n",
              "      <td>...</td>\n",
              "      <td>...</td>\n",
              "      <td>...</td>\n",
              "      <td>...</td>\n",
              "      <td>...</td>\n",
              "      <td>...</td>\n",
              "      <td>...</td>\n",
              "    </tr>\n",
              "    <tr>\n",
              "      <th>193</th>\n",
              "      <td>193</td>\n",
              "      <td>Pedrinho</td>\n",
              "      <td>América-MG</td>\n",
              "      <td>Atacante</td>\n",
              "      <td>6.38</td>\n",
              "      <td>2.40</td>\n",
              "      <td>-0.38</td>\n",
              "      <td>4.47</td>\n",
              "      <td>3</td>\n",
              "      <td>3</td>\n",
              "      <td>1.92</td>\n",
              "    </tr>\n",
              "    <tr>\n",
              "      <th>194</th>\n",
              "      <td>194</td>\n",
              "      <td>Tinga</td>\n",
              "      <td>Fortaleza</td>\n",
              "      <td>Lateral</td>\n",
              "      <td>4.23</td>\n",
              "      <td>0.00</td>\n",
              "      <td>0.00</td>\n",
              "      <td>0.40</td>\n",
              "      <td>3</td>\n",
              "      <td>1</td>\n",
              "      <td>0.76</td>\n",
              "    </tr>\n",
              "    <tr>\n",
              "      <th>195</th>\n",
              "      <td>195</td>\n",
              "      <td>Felipe</td>\n",
              "      <td>Fortaleza</td>\n",
              "      <td>Meia</td>\n",
              "      <td>6.13</td>\n",
              "      <td>0.00</td>\n",
              "      <td>0.00</td>\n",
              "      <td>3.25</td>\n",
              "      <td>3</td>\n",
              "      <td>2</td>\n",
              "      <td>2.19</td>\n",
              "    </tr>\n",
              "    <tr>\n",
              "      <th>196</th>\n",
              "      <td>196</td>\n",
              "      <td>Eduardo Baptista</td>\n",
              "      <td>Juventude</td>\n",
              "      <td>Tecnico</td>\n",
              "      <td>6.10</td>\n",
              "      <td>2.27</td>\n",
              "      <td>-0.11</td>\n",
              "      <td>3.08</td>\n",
              "      <td>3</td>\n",
              "      <td>3</td>\n",
              "      <td>1.96</td>\n",
              "    </tr>\n",
              "    <tr>\n",
              "      <th>197</th>\n",
              "      <td>197</td>\n",
              "      <td>Rodrigo Fernández</td>\n",
              "      <td>Santos</td>\n",
              "      <td>Meia</td>\n",
              "      <td>4.91</td>\n",
              "      <td>-1.50</td>\n",
              "      <td>-1.23</td>\n",
              "      <td>1.83</td>\n",
              "      <td>3</td>\n",
              "      <td>3</td>\n",
              "      <td>0.58</td>\n",
              "    </tr>\n",
              "  </tbody>\n",
              "</table>\n",
              "<p>198 rows × 11 columns</p>\n",
              "</div>\n",
              "      <button class=\"colab-df-convert\" onclick=\"convertToInteractive('df-3ca892a8-22ab-42fc-8b63-990605c995db')\"\n",
              "              title=\"Convert this dataframe to an interactive table.\"\n",
              "              style=\"display:none;\">\n",
              "        \n",
              "  <svg xmlns=\"http://www.w3.org/2000/svg\" height=\"24px\"viewBox=\"0 0 24 24\"\n",
              "       width=\"24px\">\n",
              "    <path d=\"M0 0h24v24H0V0z\" fill=\"none\"/>\n",
              "    <path d=\"M18.56 5.44l.94 2.06.94-2.06 2.06-.94-2.06-.94-.94-2.06-.94 2.06-2.06.94zm-11 1L8.5 8.5l.94-2.06 2.06-.94-2.06-.94L8.5 2.5l-.94 2.06-2.06.94zm10 10l.94 2.06.94-2.06 2.06-.94-2.06-.94-.94-2.06-.94 2.06-2.06.94z\"/><path d=\"M17.41 7.96l-1.37-1.37c-.4-.4-.92-.59-1.43-.59-.52 0-1.04.2-1.43.59L10.3 9.45l-7.72 7.72c-.78.78-.78 2.05 0 2.83L4 21.41c.39.39.9.59 1.41.59.51 0 1.02-.2 1.41-.59l7.78-7.78 2.81-2.81c.8-.78.8-2.07 0-2.86zM5.41 20L4 18.59l7.72-7.72 1.47 1.35L5.41 20z\"/>\n",
              "  </svg>\n",
              "      </button>\n",
              "      \n",
              "  <style>\n",
              "    .colab-df-container {\n",
              "      display:flex;\n",
              "      flex-wrap:wrap;\n",
              "      gap: 12px;\n",
              "    }\n",
              "\n",
              "    .colab-df-convert {\n",
              "      background-color: #E8F0FE;\n",
              "      border: none;\n",
              "      border-radius: 50%;\n",
              "      cursor: pointer;\n",
              "      display: none;\n",
              "      fill: #1967D2;\n",
              "      height: 32px;\n",
              "      padding: 0 0 0 0;\n",
              "      width: 32px;\n",
              "    }\n",
              "\n",
              "    .colab-df-convert:hover {\n",
              "      background-color: #E2EBFA;\n",
              "      box-shadow: 0px 1px 2px rgba(60, 64, 67, 0.3), 0px 1px 3px 1px rgba(60, 64, 67, 0.15);\n",
              "      fill: #174EA6;\n",
              "    }\n",
              "\n",
              "    [theme=dark] .colab-df-convert {\n",
              "      background-color: #3B4455;\n",
              "      fill: #D2E3FC;\n",
              "    }\n",
              "\n",
              "    [theme=dark] .colab-df-convert:hover {\n",
              "      background-color: #434B5C;\n",
              "      box-shadow: 0px 1px 3px 1px rgba(0, 0, 0, 0.15);\n",
              "      filter: drop-shadow(0px 1px 2px rgba(0, 0, 0, 0.3));\n",
              "      fill: #FFFFFF;\n",
              "    }\n",
              "  </style>\n",
              "\n",
              "      <script>\n",
              "        const buttonEl =\n",
              "          document.querySelector('#df-3ca892a8-22ab-42fc-8b63-990605c995db button.colab-df-convert');\n",
              "        buttonEl.style.display =\n",
              "          google.colab.kernel.accessAllowed ? 'block' : 'none';\n",
              "\n",
              "        async function convertToInteractive(key) {\n",
              "          const element = document.querySelector('#df-3ca892a8-22ab-42fc-8b63-990605c995db');\n",
              "          const dataTable =\n",
              "            await google.colab.kernel.invokeFunction('convertToInteractive',\n",
              "                                                     [key], {});\n",
              "          if (!dataTable) return;\n",
              "\n",
              "          const docLinkHtml = 'Like what you see? Visit the ' +\n",
              "            '<a target=\"_blank\" href=https://colab.research.google.com/notebooks/data_table.ipynb>data table notebook</a>'\n",
              "            + ' to learn more about interactive tables.';\n",
              "          element.innerHTML = '';\n",
              "          dataTable['output_type'] = 'display_data';\n",
              "          await google.colab.output.renderOutput(dataTable, element);\n",
              "          const docLink = document.createElement('div');\n",
              "          docLink.innerHTML = docLinkHtml;\n",
              "          element.appendChild(docLink);\n",
              "        }\n",
              "      </script>\n",
              "    </div>\n",
              "  </div>\n",
              "  "
            ]
          },
          "metadata": {},
          "execution_count": 5
        }
      ],
      "source": [
        "atletas = atletas[atletas.status_id==7].reset_index()\n",
        "atletas.drop(['index','status_id'], axis=1, inplace=True)\n",
        "atletas.reset_index()"
      ]
    },
    {
      "cell_type": "markdown",
      "metadata": {
        "id": "loPn_X5KOvrB"
      },
      "source": [
        "# Algoritmo Genético para Escalação Automática"
      ]
    },
    {
      "cell_type": "code",
      "execution_count": 7,
      "metadata": {
        "id": "WEiNLS1MOvrB"
      },
      "outputs": [],
      "source": [
        "dados = pd.DataFrame(atletas[['apelido','media','posicao','preco','pontos','jogos','minimo_para_valorizar']])\n",
        "dados.index = dados.index.set_names(['id'])\n",
        "dados = dados.reset_index()\n",
        "\n",
        "best = 0\n",
        "Goleiro = 1\n",
        "Zagueiro = 2\n",
        "Zagueiro = 3\n",
        "Lateral = 4\n",
        "Lateral = 5\n",
        "Meia = 6\n",
        "Meia = 7\n",
        "Meia = 8\n",
        "Atacante = 9\n",
        "Atacante = 10\n",
        "Atacante = 11\n",
        "Tecnico = 12\n",
        "\n",
        "# Aqui é possível alterar os pesos para definir qual a prioridade do seu time\n",
        "peso_media = 0.35\n",
        "peso_jogos = 0.2\n",
        "peso_pontos = 0.15\n",
        "peso_min = 0.3\n",
        "\n",
        "score_atleta = ((dados.media/dados.media.max()) * peso_media \n",
        "                + (dados.jogos/dados.jogos.max()) * peso_jogos \n",
        "                + (dados.pontos/dados.pontos.max()) * peso_pontos\n",
        "                + (1-(dados.minimo_para_valorizar/dados.minimo_para_valorizar.max())) * peso_min)\n",
        "dados['score_atleta'] = score_atleta\n",
        "\n",
        "\n",
        "# População inicial\n",
        "populacao = list(range(30))\n",
        "for i in range(0,30):\n",
        "    populacao[i]=[random.choice(dados.loc[dados.posicao=='Goleiro']['id']),\n",
        "                  random.choice(dados.loc[dados.posicao=='Zagueiro']['id']),\n",
        "                  random.choice(dados.loc[dados.posicao=='Zagueiro']['id']),\n",
        "                  random.choice(dados.loc[dados.posicao=='Lateral']['id']),\n",
        "                  random.choice(dados.loc[dados.posicao=='Lateral']['id']),\n",
        "                  random.choice(dados.loc[dados.posicao=='Meia']['id']),\n",
        "                  random.choice(dados.loc[dados.posicao=='Meia']['id']),\n",
        "                  random.choice(dados.loc[dados.posicao=='Meia']['id']),\n",
        "                  random.choice(dados.loc[dados.posicao=='Atacante']['id']),\n",
        "                  random.choice(dados.loc[dados.posicao=='Atacante']['id']),\n",
        "                  random.choice(dados.loc[dados.posicao=='Atacante']['id']),\n",
        "                  random.choice(dados.loc[dados.posicao=='Tecnico']['id'])]\n",
        "a = []\n",
        "c = []\n",
        "control = 0\n",
        "while (control==0):\n",
        "    # Função de custo\n",
        "    for k in range(500):  # Aqui é possível alterar o número de iterações\n",
        "        cartoletas = 114  # Pode alterar a quantidade de cartoletas disponíveis\n",
        "        for i in range(0,shape(populacao)[0]):\n",
        "            pontuacao = dados.iloc[populacao[i]].score_atleta.sum()/12\n",
        "            c.append(pontuacao)\n",
        "            if dados.iloc[populacao[i]].preco.sum() > cartoletas:\n",
        "                populacao[i].append(100)\n",
        "            else:\n",
        "                populacao[i].append(pontuacao)\n",
        "                if populacao[i][-1]>best:\n",
        "                    best = populacao[i][-1]\n",
        "                    melhor =  populacao[i]\n",
        "                    a.append(populacao[i][-1])\n",
        "    # Seleção\n",
        "        caixa = populacao\n",
        "        selecao = []\n",
        "        for i in range(0,12):\n",
        "            candidato1 = caixa[random.choice(len(caixa))]\n",
        "            candidato2 = candidato1\n",
        "            while (candidato1[0]==candidato2[0]):\n",
        "                candidato2 = caixa[random.choice(len(caixa))]   \n",
        "\n",
        "            if candidato1[-1]>candidato2[-1]:\n",
        "                selecao.append(candidato1)\n",
        "                caixa.remove(candidato1)\n",
        "            else:\n",
        "                selecao.append(candidato2)\n",
        "                caixa.remove(candidato2)\n",
        "    # Reprodução\n",
        "        geracao = []\n",
        "        while (len(selecao)!=0):\n",
        "            candidato1 = selecao[random.choice(len(selecao))]\n",
        "            candidato2 = candidato1\n",
        "            while (candidato1==candidato2):\n",
        "                candidato2 = selecao[random.choice(len(selecao))] \n",
        "            filho1 = candidato1[0:3]+candidato2[3:6]+candidato1[6:-1]\n",
        "            pos = random.choice(len(filho1))\n",
        "            if pos==Goleiro:\n",
        "                filho1[pos] = random.choice(dados[dados.posicao=='Goleiro'].id)\n",
        "            elif pos==Zagueiro:\n",
        "                filho1[pos] = random.choice(dados[dados.posicao=='Zagueiro'].id)\n",
        "            elif pos==Lateral:\n",
        "                filho1[pos] = random.choice(dados[dados.posicao=='Lateral'].id)\n",
        "            elif pos==Meia:\n",
        "                filho1[pos] = random.choice(dados[dados.posicao=='Meia'].id)\n",
        "            elif pos==Atacante:\n",
        "                filho1[pos] = random.choice(dados[dados.posicao=='Atacante'].id)\n",
        "            else:\n",
        "                filho1[pos] = random.choice(dados[dados.posicao=='Tecnico'].id)\n",
        "\n",
        "            filho2 = candidato2[0:3]+candidato1[3:6]+candidato2[6:-1]\n",
        "            pos = random.choice(len(filho2))\n",
        "            if pos==Goleiro:\n",
        "                filho2[pos] = random.choice(dados[dados.posicao=='Goleiro'].id)\n",
        "            elif pos==Zagueiro:\n",
        "                filho2[pos] = random.choice(dados[dados.posicao=='Zagueiro'].id)\n",
        "            elif pos==Lateral:\n",
        "                filho2[pos] = random.choice(dados[dados.posicao=='Lateral'].id)\n",
        "            elif pos==Meia:\n",
        "                filho2[pos] = random.choice(dados[dados.posicao=='Meia'].id)\n",
        "            elif pos==Atacante:\n",
        "                filho2[pos] = random.choice(dados[dados.posicao=='Atacante'].id)\n",
        "            else:\n",
        "                filho2[pos] = random.choice(dados[dados.posicao=='Tecnico'].id)\n",
        "\n",
        "            selecao.remove(candidato1)\n",
        "            selecao.remove(candidato2)\n",
        "            geracao.append(candidato1[:-1])\n",
        "            geracao.append(candidato2[:-1])\n",
        "    # Completa população\n",
        "        populacao = list(range(18))\n",
        "        for i in range(0,18):\n",
        "            populacao[i]=[random.choice(dados.loc[dados.posicao=='Goleiro']['id']),\n",
        "                          random.choice(dados.loc[dados.posicao=='Zagueiro']['id']),\n",
        "                          random.choice(dados.loc[dados.posicao=='Zagueiro']['id']),\n",
        "                          random.choice(dados.loc[dados.posicao=='Lateral']['id']),\n",
        "                          random.choice(dados.loc[dados.posicao=='Lateral']['id']),\n",
        "                          random.choice(dados.loc[dados.posicao=='Meia']['id']),\n",
        "                          random.choice(dados.loc[dados.posicao=='Meia']['id']),\n",
        "                          random.choice(dados.loc[dados.posicao=='Meia']['id']),\n",
        "                          random.choice(dados.loc[dados.posicao=='Atacante']['id']),\n",
        "                          random.choice(dados.loc[dados.posicao=='Atacante']['id']),\n",
        "                          random.choice(dados.loc[dados.posicao=='Atacante']['id']),\n",
        "                          random.choice(dados.loc[dados.posicao=='Tecnico']['id'])]\n",
        "\n",
        "        populacao = populacao + geracao\n",
        "    # Time escolhido    \n",
        "    time = pd.DataFrame()\n",
        "    for i in range(12):\n",
        "        time = time.append(dados[dados.id==melhor[i]])\n",
        "\n",
        "    if (time.duplicated().any()==True):\n",
        "        control = 0\n",
        "    else:\n",
        "        control = 1"
      ]
    },
    {
      "cell_type": "markdown",
      "metadata": {
        "id": "5ebeYSnBOvrE"
      },
      "source": [
        "Score do Time: pontuação entre zero e um."
      ]
    },
    {
      "cell_type": "code",
      "execution_count": 8,
      "metadata": {
        "id": "9iRdBholOvrE",
        "outputId": "00b96c1b-a44b-4e98-f368-feffc35fa37c",
        "colab": {
          "base_uri": "https://localhost:8080/"
        }
      },
      "outputs": [
        {
          "output_type": "execute_result",
          "data": {
            "text/plain": [
              "0.5382996598631805"
            ]
          },
          "metadata": {},
          "execution_count": 8
        }
      ],
      "source": [
        "time.score_atleta.sum()/12"
      ]
    },
    {
      "cell_type": "markdown",
      "metadata": {
        "id": "Uo3IvcaWOvrE"
      },
      "source": [
        "Preço do Time"
      ]
    },
    {
      "cell_type": "code",
      "execution_count": 9,
      "metadata": {
        "id": "olbhJUOOOvrF",
        "outputId": "2f3878f4-afe1-4e68-8bd0-55fceb804ff6",
        "colab": {
          "base_uri": "https://localhost:8080/"
        }
      },
      "outputs": [
        {
          "output_type": "execute_result",
          "data": {
            "text/plain": [
              "103.38999999999999"
            ]
          },
          "metadata": {},
          "execution_count": 9
        }
      ],
      "source": [
        "time.preco.sum()"
      ]
    },
    {
      "cell_type": "markdown",
      "metadata": {
        "id": "9fbTSib1OvrF"
      },
      "source": [
        "Performance: score de todos os times gerados"
      ]
    },
    {
      "cell_type": "code",
      "execution_count": 10,
      "metadata": {
        "id": "9wH-SL0WOvrF",
        "outputId": "0cb3a216-307f-4b4d-d6a8-d409001242b9",
        "colab": {
          "base_uri": "https://localhost:8080/",
          "height": 296
        }
      },
      "outputs": [
        {
          "output_type": "execute_result",
          "data": {
            "text/plain": [
              "Text(0, 0.5, 'Número de Iterações')"
            ]
          },
          "metadata": {},
          "execution_count": 10
        },
        {
          "output_type": "display_data",
          "data": {
            "text/plain": [
              "<Figure size 432x288 with 1 Axes>"
            ],
            "image/png": "[encoded data removed]"
          },
          "metadata": {
            "needs_background": "light"
          }
        }
      ],
      "source": [
        "plt.hist(x=c, bins='auto', color='#0504aa', alpha=0.7, rwidth=0.85)\n",
        "plt.xlabel('Score do time')\n",
        "plt.ylabel('Número de Iterações')"
      ]
    },
    {
      "cell_type": "markdown",
      "metadata": {
        "id": "6VpEr_xNOvrF"
      },
      "source": [
        "Performance: score dos melhores times ao longo das iterações (convergência)"
      ]
    },
    {
      "cell_type": "code",
      "execution_count": 11,
      "metadata": {
        "id": "MDwNVjvAOvrG",
        "outputId": "98532104-0402-43e5-823a-27a6e8695286",
        "colab": {
          "base_uri": "https://localhost:8080/",
          "height": 296
        }
      },
      "outputs": [
        {
          "output_type": "execute_result",
          "data": {
            "text/plain": [
              "Text(0.5, 0, 'Aumento do Score')"
            ]
          },
          "metadata": {},
          "execution_count": 11
        },
        {
          "output_type": "display_data",
          "data": {
            "text/plain": [
              "<Figure size 432x288 with 1 Axes>"
            ],
            "image/png": "[encoded data removed]"
          },
          "metadata": {
            "needs_background": "light"
          }
        }
      ],
      "source": [
        "plot(a)\n",
        "plt.ylabel('Score do time')\n",
        "plt.xlabel('Aumento do Score')"
      ]
    },
    {
      "cell_type": "markdown",
      "metadata": {
        "id": "KqfnvDX9OvrG"
      },
      "source": [
        "O time escalado"
      ]
    },
    {
      "cell_type": "code",
      "execution_count": 12,
      "metadata": {
        "id": "5ZJkFG54OvrG",
        "outputId": "069ff383-0236-49a5-bb67-4e5c8595eb24",
        "colab": {
          "base_uri": "https://localhost:8080/",
          "height": 426
        }
      },
      "outputs": [
        {
          "output_type": "execute_result",
          "data": {
            "text/plain": [
              "      id            apelido  media   posicao  preco  pontos  jogos  \\\n",
              "101  101             Walter   6.83   Goleiro  13.61    8.00      3   \n",
              "125  125      Paulo Miranda   1.63  Zagueiro   3.00    3.60      3   \n",
              "159  159            Mercado   4.17  Zagueiro   7.23    9.50      3   \n",
              "132  132        Lucas Pires   8.17   Lateral  11.84   12.80      3   \n",
              "106  106  Matheus Alexandre   3.17   Lateral   6.18    2.70      3   \n",
              "150  150            Raniele   5.33      Meia   9.03    3.80      3   \n",
              "98    98    Wellington Rato   3.53      Meia   8.96    0.00      3   \n",
              "197  197  Rodrigo Fernández   1.83      Meia   4.91   -1.50      3   \n",
              "44    44             Erison   8.80  Atacante  11.30    0.90      3   \n",
              "117  117             Ademir   5.20  Atacante  11.38    2.60      3   \n",
              "100  100         Alef Manga   4.10  Atacante   9.08    2.20      3   \n",
              "187  187    Eduardo Barroca   4.22   Tecnico   6.87    4.46      3   \n",
              "\n",
              "     minimo_para_valorizar  score_atleta  \n",
              "101                   5.27      0.541513  \n",
              "125                   1.78      0.507931  \n",
              "159                   4.47      0.525976  \n",
              "132                   6.24      0.582794  \n",
              "106                   2.11      0.521252  \n",
              "150                   2.93      0.550128  \n",
              "98                    1.85      0.512262  \n",
              "197                   0.58      0.505180  \n",
              "44                    2.17      0.624067  \n",
              "117                   3.14      0.528525  \n",
              "100                   2.56      0.520998  \n",
              "187                   2.74      0.538970  "
            ],
            "text/html": [
              "\n",
              "  <div id=\"df-2ee763bc-9570-45f7-8163-b3d8a20e0e08\">\n",
              "    <div class=\"colab-df-container\">\n",
              "      <div>\n",
              "<style scoped>\n",
              "    .dataframe tbody tr th:only-of-type {\n",
              "        vertical-align: middle;\n",
              "    }\n",
              "\n",
              "    .dataframe tbody tr th {\n",
              "        vertical-align: top;\n",
              "    }\n",
              "\n",
              "    .dataframe thead th {\n",
              "        text-align: right;\n",
              "    }\n",
              "</style>\n",
              "<table border=\"1\" class=\"dataframe\">\n",
              "  <thead>\n",
              "    <tr style=\"text-align: right;\">\n",
              "      <th></th>\n",
              "      <th>id</th>\n",
              "      <th>apelido</th>\n",
              "      <th>media</th>\n",
              "      <th>posicao</th>\n",
              "      <th>preco</th>\n",
              "      <th>pontos</th>\n",
              "      <th>jogos</th>\n",
              "      <th>minimo_para_valorizar</th>\n",
              "      <th>score_atleta</th>\n",
              "    </tr>\n",
              "  </thead>\n",
              "  <tbody>\n",
              "    <tr>\n",
              "      <th>101</th>\n",
              "      <td>101</td>\n",
              "      <td>Walter</td>\n",
              "      <td>6.83</td>\n",
              "      <td>Goleiro</td>\n",
              "      <td>13.61</td>\n",
              "      <td>8.00</td>\n",
              "      <td>3</td>\n",
              "      <td>5.27</td>\n",
              "      <td>0.541513</td>\n",
              "    </tr>\n",
              "    <tr>\n",
              "      <th>125</th>\n",
              "      <td>125</td>\n",
              "      <td>Paulo Miranda</td>\n",
              "      <td>1.63</td>\n",
              "      <td>Zagueiro</td>\n",
              "      <td>3.00</td>\n",
              "      <td>3.60</td>\n",
              "      <td>3</td>\n",
              "      <td>1.78</td>\n",
              "      <td>0.507931</td>\n",
              "    </tr>\n",
              "    <tr>\n",
              "      <th>159</th>\n",
              "      <td>159</td>\n",
              "      <td>Mercado</td>\n",
              "      <td>4.17</td>\n",
              "      <td>Zagueiro</td>\n",
              "      <td>7.23</td>\n",
              "      <td>9.50</td>\n",
              "      <td>3</td>\n",
              "      <td>4.47</td>\n",
              "      <td>0.525976</td>\n",
              "    </tr>\n",
              "    <tr>\n",
              "      <th>132</th>\n",
              "      <td>132</td>\n",
              "      <td>Lucas Pires</td>\n",
              "      <td>8.17</td>\n",
              "      <td>Lateral</td>\n",
              "      <td>11.84</td>\n",
              "      <td>12.80</td>\n",
              "      <td>3</td>\n",
              "      <td>6.24</td>\n",
              "      <td>0.582794</td>\n",
              "    </tr>\n",
              "    <tr>\n",
              "      <th>106</th>\n",
              "      <td>106</td>\n",
              "      <td>Matheus Alexandre</td>\n",
              "      <td>3.17</td>\n",
              "      <td>Lateral</td>\n",
              "      <td>6.18</td>\n",
              "      <td>2.70</td>\n",
              "      <td>3</td>\n",
              "      <td>2.11</td>\n",
              "      <td>0.521252</td>\n",
              "    </tr>\n",
              "    <tr>\n",
              "      <th>150</th>\n",
              "      <td>150</td>\n",
              "      <td>Raniele</td>\n",
              "      <td>5.33</td>\n",
              "      <td>Meia</td>\n",
              "      <td>9.03</td>\n",
              "      <td>3.80</td>\n",
              "      <td>3</td>\n",
              "      <td>2.93</td>\n",
              "      <td>0.550128</td>\n",
              "    </tr>\n",
              "    <tr>\n",
              "      <th>98</th>\n",
              "      <td>98</td>\n",
              "      <td>Wellington Rato</td>\n",
              "      <td>3.53</td>\n",
              "      <td>Meia</td>\n",
              "      <td>8.96</td>\n",
              "      <td>0.00</td>\n",
              "      <td>3</td>\n",
              "      <td>1.85</td>\n",
              "      <td>0.512262</td>\n",
              "    </tr>\n",
              "    <tr>\n",
              "      <th>197</th>\n",
              "      <td>197</td>\n",
              "      <td>Rodrigo Fernández</td>\n",
              "      <td>1.83</td>\n",
              "      <td>Meia</td>\n",
              "      <td>4.91</td>\n",
              "      <td>-1.50</td>\n",
              "      <td>3</td>\n",
              "      <td>0.58</td>\n",
              "      <td>0.505180</td>\n",
              "    </tr>\n",
              "    <tr>\n",
              "      <th>44</th>\n",
              "      <td>44</td>\n",
              "      <td>Erison</td>\n",
              "      <td>8.80</td>\n",
              "      <td>Atacante</td>\n",
              "      <td>11.30</td>\n",
              "      <td>0.90</td>\n",
              "      <td>3</td>\n",
              "      <td>2.17</td>\n",
              "      <td>0.624067</td>\n",
              "    </tr>\n",
              "    <tr>\n",
              "      <th>117</th>\n",
              "      <td>117</td>\n",
              "      <td>Ademir</td>\n",
              "      <td>5.20</td>\n",
              "      <td>Atacante</td>\n",
              "      <td>11.38</td>\n",
              "      <td>2.60</td>\n",
              "      <td>3</td>\n",
              "      <td>3.14</td>\n",
              "      <td>0.528525</td>\n",
              "    </tr>\n",
              "    <tr>\n",
              "      <th>100</th>\n",
              "      <td>100</td>\n",
              "      <td>Alef Manga</td>\n",
              "      <td>4.10</td>\n",
              "      <td>Atacante</td>\n",
              "      <td>9.08</td>\n",
              "      <td>2.20</td>\n",
              "      <td>3</td>\n",
              "      <td>2.56</td>\n",
              "      <td>0.520998</td>\n",
              "    </tr>\n",
              "    <tr>\n",
              "      <th>187</th>\n",
              "      <td>187</td>\n",
              "      <td>Eduardo Barroca</td>\n",
              "      <td>4.22</td>\n",
              "      <td>Tecnico</td>\n",
              "      <td>6.87</td>\n",
              "      <td>4.46</td>\n",
              "      <td>3</td>\n",
              "      <td>2.74</td>\n",
              "      <td>0.538970</td>\n",
              "    </tr>\n",
              "  </tbody>\n",
              "</table>\n",
              "</div>\n",
              "      <button class=\"colab-df-convert\" onclick=\"convertToInteractive('df-2ee763bc-9570-45f7-8163-b3d8a20e0e08')\"\n",
              "              title=\"Convert this dataframe to an interactive table.\"\n",
              "              style=\"display:none;\">\n",
              "        \n",
              "  <svg xmlns=\"http://www.w3.org/2000/svg\" height=\"24px\"viewBox=\"0 0 24 24\"\n",
              "       width=\"24px\">\n",
              "    <path d=\"M0 0h24v24H0V0z\" fill=\"none\"/>\n",
              "    <path d=\"M18.56 5.44l.94 2.06.94-2.06 2.06-.94-2.06-.94-.94-2.06-.94 2.06-2.06.94zm-11 1L8.5 8.5l.94-2.06 2.06-.94-2.06-.94L8.5 2.5l-.94 2.06-2.06.94zm10 10l.94 2.06.94-2.06 2.06-.94-2.06-.94-.94-2.06-.94 2.06-2.06.94z\"/><path d=\"M17.41 7.96l-1.37-1.37c-.4-.4-.92-.59-1.43-.59-.52 0-1.04.2-1.43.59L10.3 9.45l-7.72 7.72c-.78.78-.78 2.05 0 2.83L4 21.41c.39.39.9.59 1.41.59.51 0 1.02-.2 1.41-.59l7.78-7.78 2.81-2.81c.8-.78.8-2.07 0-2.86zM5.41 20L4 18.59l7.72-7.72 1.47 1.35L5.41 20z\"/>\n",
              "  </svg>\n",
              "      </button>\n",
              "      \n",
              "  <style>\n",
              "    .colab-df-container {\n",
              "      display:flex;\n",
              "      flex-wrap:wrap;\n",
              "      gap: 12px;\n",
              "    }\n",
              "\n",
              "    .colab-df-convert {\n",
              "      background-color: #E8F0FE;\n",
              "      border: none;\n",
              "      border-radius: 50%;\n",
              "      cursor: pointer;\n",
              "      display: none;\n",
              "      fill: #1967D2;\n",
              "      height: 32px;\n",
              "      padding: 0 0 0 0;\n",
              "      width: 32px;\n",
              "    }\n",
              "\n",
              "    .colab-df-convert:hover {\n",
              "      background-color: #E2EBFA;\n",
              "      box-shadow: 0px 1px 2px rgba(60, 64, 67, 0.3), 0px 1px 3px 1px rgba(60, 64, 67, 0.15);\n",
              "      fill: #174EA6;\n",
              "    }\n",
              "\n",
              "    [theme=dark] .colab-df-convert {\n",
              "      background-color: #3B4455;\n",
              "      fill: #D2E3FC;\n",
              "    }\n",
              "\n",
              "    [theme=dark] .colab-df-convert:hover {\n",
              "      background-color: #434B5C;\n",
              "      box-shadow: 0px 1px 3px 1px rgba(0, 0, 0, 0.15);\n",
              "      filter: drop-shadow(0px 1px 2px rgba(0, 0, 0, 0.3));\n",
              "      fill: #FFFFFF;\n",
              "    }\n",
              "  </style>\n",
              "\n",
              "      <script>\n",
              "        const buttonEl =\n",
              "          document.querySelector('#df-2ee763bc-9570-45f7-8163-b3d8a20e0e08 button.colab-df-convert');\n",
              "        buttonEl.style.display =\n",
              "          google.colab.kernel.accessAllowed ? 'block' : 'none';\n",
              "\n",
              "        async function convertToInteractive(key) {\n",
              "          const element = document.querySelector('#df-2ee763bc-9570-45f7-8163-b3d8a20e0e08');\n",
              "          const dataTable =\n",
              "            await google.colab.kernel.invokeFunction('convertToInteractive',\n",
              "                                                     [key], {});\n",
              "          if (!dataTable) return;\n",
              "\n",
              "          const docLinkHtml = 'Like what you see? Visit the ' +\n",
              "            '<a target=\"_blank\" href=https://colab.research.google.com/notebooks/data_table.ipynb>data table notebook</a>'\n",
              "            + ' to learn more about interactive tables.';\n",
              "          element.innerHTML = '';\n",
              "          dataTable['output_type'] = 'display_data';\n",
              "          await google.colab.output.renderOutput(dataTable, element);\n",
              "          const docLink = document.createElement('div');\n",
              "          docLink.innerHTML = docLinkHtml;\n",
              "          element.appendChild(docLink);\n",
              "        }\n",
              "      </script>\n",
              "    </div>\n",
              "  </div>\n",
              "  "
            ]
          },
          "metadata": {},
          "execution_count": 12
        }
      ],
      "source": [
        "time"
      ]
    }
  ],
  "metadata": {
    "kernelspec": {
      "display_name": "Python 3",
      "language": "python",
      "name": "python3"
    },
    "language_info": {
      "codemirror_mode": {
        "name": "ipython",
        "version": 3
      },
      "file_extension": ".py",
      "mimetype": "text/x-python",
      "name": "python",
      "nbconvert_exporter": "python",
      "pygments_lexer": "ipython3",
      "version": "3.8.5"
    },
    "colab": {
      "name": "Cópia de ScalaAI.ipynb",
      "provenance": [],
      "toc_visible": true,
      "include_colab_link": true
    }
  },
  "nbformat": 4,
  "nbformat_minor": 0
}