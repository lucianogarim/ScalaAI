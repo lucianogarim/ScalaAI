{
 "cells": [
  {
   "cell_type": "markdown",
   "metadata": {},
   "source": [
    "# <font color='blue'> <center> ScalaAI</center> </font> \n",
    "\n",
    "## <center> Escalação Automática e Otimizada de Times do CartolaFC - 2021 </center> \n",
    "### Versão Teste - Escalação na Formação 4-3-3\n",
    "\n",
    "<center><img src = \"https://github.com/lucianogarim/ScalaAI/blob/main/sca.jpg?raw=true\" height = \"350\" width=\"800\"></center> "
   ]
  },
  {
   "cell_type": "markdown",
   "metadata": {},
   "source": [
    "Importação dos pacotes necessários"
   ]
  },
  {
   "cell_type": "code",
   "execution_count": 1,
   "metadata": {},
   "outputs": [
    {
     "name": "stdout",
     "output_type": "stream",
     "text": [
      "Using matplotlib backend: Qt5Agg\n",
      "Populating the interactive namespace from numpy and matplotlib\n"
     ]
    }
   ],
   "source": [
    "%pylab\n",
    "%matplotlib inline\n",
    "import pandas as pd\n",
    "import requests\n",
    "import json\n",
    "import matplotlib.pyplot as plt\n"
   ]
  },
  {
   "cell_type": "markdown",
   "metadata": {},
   "source": [
    "Leitura dos dados da API do CartolaFC"
   ]
  },
  {
   "cell_type": "code",
   "execution_count": 2,
   "metadata": {},
   "outputs": [],
   "source": [
    "response = requests.get('https://api.cartolafc.globo.com/atletas/mercado')\n",
    "data = json.loads(response.text)\n",
    "atletas = pd.DataFrame(data['atletas'])\n",
    "times = pd.DataFrame(data['clubes']).T"
   ]
  },
  {
   "cell_type": "markdown",
   "metadata": {},
   "source": [
    "Remove as colunas desnecessárias"
   ]
  },
  {
   "cell_type": "code",
   "execution_count": 3,
   "metadata": {},
   "outputs": [],
   "source": [
    "atletas.drop(['atleta_id','scout', 'slug', 'apelido_abreviado', 'nome', 'foto'],\n",
    "             axis=1, inplace=True)\n",
    "times.drop(['abreviacao', 'escudos', 'nome_fantasia'], axis=1, inplace=True)\n",
    "atletas = atletas[['apelido', 'clube_id', 'posicao_id', 'preco_num', 'pontos_num',\n",
    "                   'variacao_num', 'media_num', 'rodada_id', 'jogos_num','status_id']]"
   ]
  },
  {
   "cell_type": "markdown",
   "metadata": {},
   "source": [
    "Organizando os dados"
   ]
  },
  {
   "cell_type": "code",
   "execution_count": 4,
   "metadata": {},
   "outputs": [],
   "source": [
    "atletas.posicao_id = atletas.posicao_id.map({1:'Goleiro', 2:'Lateral', 3:'Zagueiro',\n",
    "                                             4:'Meia', 5:'Atacante', 6:'Tecnico'})\n",
    "times_id = times['id'].to_list()\n",
    "times_nome = times['nome'].to_list()\n",
    "dictionary = dict(zip(times_id, times_nome))\n",
    "atletas.clube_id = atletas.clube_id.map(dictionary)\n",
    "#renomeia as colunas\n",
    "atletas.rename(columns={'clube_id': 'clube', 'posicao_id': 'posicao',\n",
    "                        'preco_num': 'preco', 'pontos_num': 'pontos',\n",
    "                        'variacao_num': 'variacao', 'media_num': 'media',\n",
    "                        'rodada_id': 'rodada','jogos_num': 'jogos'}, inplace=True)"
   ]
  },
  {
   "cell_type": "markdown",
   "metadata": {},
   "source": [
    "Considerando a escalação de apenas jogadores prováveis"
   ]
  },
  {
   "cell_type": "code",
   "execution_count": 5,
   "metadata": {},
   "outputs": [
    {
     "data": {
      "text/html": [
       "<div>\n",
       "<style scoped>\n",
       "    .dataframe tbody tr th:only-of-type {\n",
       "        vertical-align: middle;\n",
       "    }\n",
       "\n",
       "    .dataframe tbody tr th {\n",
       "        vertical-align: top;\n",
       "    }\n",
       "\n",
       "    .dataframe thead th {\n",
       "        text-align: right;\n",
       "    }\n",
       "</style>\n",
       "<table border=\"1\" class=\"dataframe\">\n",
       "  <thead>\n",
       "    <tr style=\"text-align: right;\">\n",
       "      <th></th>\n",
       "      <th>index</th>\n",
       "      <th>apelido</th>\n",
       "      <th>clube</th>\n",
       "      <th>posicao</th>\n",
       "      <th>preco</th>\n",
       "      <th>pontos</th>\n",
       "      <th>variacao</th>\n",
       "      <th>media</th>\n",
       "      <th>rodada</th>\n",
       "      <th>jogos</th>\n",
       "    </tr>\n",
       "  </thead>\n",
       "  <tbody>\n",
       "    <tr>\n",
       "      <th>0</th>\n",
       "      <td>0</td>\n",
       "      <td>Maurício Barbieri</td>\n",
       "      <td>Bragantino</td>\n",
       "      <td>Tecnico</td>\n",
       "      <td>13.12</td>\n",
       "      <td>1.94</td>\n",
       "      <td>-0.26</td>\n",
       "      <td>4.23</td>\n",
       "      <td>22</td>\n",
       "      <td>20</td>\n",
       "    </tr>\n",
       "    <tr>\n",
       "      <th>1</th>\n",
       "      <td>1</td>\n",
       "      <td>Nino Paraíba</td>\n",
       "      <td>Bahia</td>\n",
       "      <td>Lateral</td>\n",
       "      <td>8.35</td>\n",
       "      <td>4.10</td>\n",
       "      <td>-0.45</td>\n",
       "      <td>3.17</td>\n",
       "      <td>22</td>\n",
       "      <td>17</td>\n",
       "    </tr>\n",
       "    <tr>\n",
       "      <th>2</th>\n",
       "      <td>2</td>\n",
       "      <td>Patrick</td>\n",
       "      <td>Internacional</td>\n",
       "      <td>Meia</td>\n",
       "      <td>9.81</td>\n",
       "      <td>5.80</td>\n",
       "      <td>0.63</td>\n",
       "      <td>4.02</td>\n",
       "      <td>22</td>\n",
       "      <td>19</td>\n",
       "    </tr>\n",
       "    <tr>\n",
       "      <th>3</th>\n",
       "      <td>3</td>\n",
       "      <td>Ferreira</td>\n",
       "      <td>Grêmio</td>\n",
       "      <td>Atacante</td>\n",
       "      <td>10.18</td>\n",
       "      <td>5.80</td>\n",
       "      <td>-0.26</td>\n",
       "      <td>5.01</td>\n",
       "      <td>22</td>\n",
       "      <td>12</td>\n",
       "    </tr>\n",
       "    <tr>\n",
       "      <th>4</th>\n",
       "      <td>4</td>\n",
       "      <td>Cleiton</td>\n",
       "      <td>Bragantino</td>\n",
       "      <td>Goleiro</td>\n",
       "      <td>8.64</td>\n",
       "      <td>0.00</td>\n",
       "      <td>0.00</td>\n",
       "      <td>3.97</td>\n",
       "      <td>22</td>\n",
       "      <td>17</td>\n",
       "    </tr>\n",
       "    <tr>\n",
       "      <th>...</th>\n",
       "      <td>...</td>\n",
       "      <td>...</td>\n",
       "      <td>...</td>\n",
       "      <td>...</td>\n",
       "      <td>...</td>\n",
       "      <td>...</td>\n",
       "      <td>...</td>\n",
       "      <td>...</td>\n",
       "      <td>...</td>\n",
       "      <td>...</td>\n",
       "    </tr>\n",
       "    <tr>\n",
       "      <th>225</th>\n",
       "      <td>225</td>\n",
       "      <td>Douglas Friedrich</td>\n",
       "      <td>Juventude</td>\n",
       "      <td>Goleiro</td>\n",
       "      <td>6.08</td>\n",
       "      <td>8.00</td>\n",
       "      <td>1.38</td>\n",
       "      <td>4.00</td>\n",
       "      <td>22</td>\n",
       "      <td>2</td>\n",
       "    </tr>\n",
       "    <tr>\n",
       "      <th>226</th>\n",
       "      <td>226</td>\n",
       "      <td>Rodrigo Dourado</td>\n",
       "      <td>Internacional</td>\n",
       "      <td>Meia</td>\n",
       "      <td>8.23</td>\n",
       "      <td>9.20</td>\n",
       "      <td>0.95</td>\n",
       "      <td>3.81</td>\n",
       "      <td>22</td>\n",
       "      <td>15</td>\n",
       "    </tr>\n",
       "    <tr>\n",
       "      <th>227</th>\n",
       "      <td>227</td>\n",
       "      <td>Moisés</td>\n",
       "      <td>Internacional</td>\n",
       "      <td>Lateral</td>\n",
       "      <td>4.73</td>\n",
       "      <td>0.00</td>\n",
       "      <td>0.00</td>\n",
       "      <td>2.88</td>\n",
       "      <td>22</td>\n",
       "      <td>12</td>\n",
       "    </tr>\n",
       "    <tr>\n",
       "      <th>228</th>\n",
       "      <td>228</td>\n",
       "      <td>Saravia</td>\n",
       "      <td>Internacional</td>\n",
       "      <td>Lateral</td>\n",
       "      <td>7.71</td>\n",
       "      <td>0.00</td>\n",
       "      <td>0.00</td>\n",
       "      <td>4.98</td>\n",
       "      <td>22</td>\n",
       "      <td>12</td>\n",
       "    </tr>\n",
       "    <tr>\n",
       "      <th>229</th>\n",
       "      <td>229</td>\n",
       "      <td>Caio Paulista</td>\n",
       "      <td>Fluminense</td>\n",
       "      <td>Atacante</td>\n",
       "      <td>10.13</td>\n",
       "      <td>7.30</td>\n",
       "      <td>0.89</td>\n",
       "      <td>3.47</td>\n",
       "      <td>22</td>\n",
       "      <td>12</td>\n",
       "    </tr>\n",
       "  </tbody>\n",
       "</table>\n",
       "<p>230 rows × 10 columns</p>\n",
       "</div>"
      ],
      "text/plain": [
       "     index            apelido          clube   posicao  preco  pontos  \\\n",
       "0        0  Maurício Barbieri     Bragantino   Tecnico  13.12    1.94   \n",
       "1        1       Nino Paraíba          Bahia   Lateral   8.35    4.10   \n",
       "2        2            Patrick  Internacional      Meia   9.81    5.80   \n",
       "3        3           Ferreira         Grêmio  Atacante  10.18    5.80   \n",
       "4        4            Cleiton     Bragantino   Goleiro   8.64    0.00   \n",
       "..     ...                ...            ...       ...    ...     ...   \n",
       "225    225  Douglas Friedrich      Juventude   Goleiro   6.08    8.00   \n",
       "226    226    Rodrigo Dourado  Internacional      Meia   8.23    9.20   \n",
       "227    227             Moisés  Internacional   Lateral   4.73    0.00   \n",
       "228    228            Saravia  Internacional   Lateral   7.71    0.00   \n",
       "229    229      Caio Paulista     Fluminense  Atacante  10.13    7.30   \n",
       "\n",
       "     variacao  media  rodada  jogos  \n",
       "0       -0.26   4.23      22     20  \n",
       "1       -0.45   3.17      22     17  \n",
       "2        0.63   4.02      22     19  \n",
       "3       -0.26   5.01      22     12  \n",
       "4        0.00   3.97      22     17  \n",
       "..        ...    ...     ...    ...  \n",
       "225      1.38   4.00      22      2  \n",
       "226      0.95   3.81      22     15  \n",
       "227      0.00   2.88      22     12  \n",
       "228      0.00   4.98      22     12  \n",
       "229      0.89   3.47      22     12  \n",
       "\n",
       "[230 rows x 10 columns]"
      ]
     },
     "execution_count": 5,
     "metadata": {},
     "output_type": "execute_result"
    }
   ],
   "source": [
    "atletas = atletas[atletas.status_id==7].reset_index()\n",
    "atletas.drop(['index','status_id'], axis=1, inplace=True)\n",
    "atletas.reset_index()"
   ]
  },
  {
   "cell_type": "markdown",
   "metadata": {},
   "source": [
    "# Algoritmo Genético para Escalação Automática"
   ]
  },
  {
   "cell_type": "code",
   "execution_count": 6,
   "metadata": {},
   "outputs": [],
   "source": [
    "dados = pd.DataFrame(atletas[['apelido','media','posicao','preco','pontos','jogos']])\n",
    "dados.index = dados.index.set_names(['id'])\n",
    "dados = dados.reset_index()\n",
    "\n",
    "best = 0\n",
    "Goleiro = 1\n",
    "Zagueiro = 2\n",
    "Zagueiro = 3\n",
    "Lateral = 4\n",
    "Lateral = 5\n",
    "Meia = 6\n",
    "Meia = 7\n",
    "Meia = 8\n",
    "Atacante = 9\n",
    "Atacante = 10\n",
    "Atacante = 11\n",
    "Tecnico = 12\n",
    "\n",
    "# Aqui é possível alterar os pesos para definir qual a prioridade do seu time\n",
    "peso_media = 0.5\n",
    "peso_jogos = 0.25\n",
    "peso_pontos = 0.25\n",
    "\n",
    "score_atleta = ((dados.media/dados.media.max()) * peso_media \n",
    "                + (dados.jogos/dados.jogos.max()) * peso_jogos \n",
    "                + (dados.pontos/dados.pontos.max()) * peso_pontos)\n",
    "dados['score_atleta'] = score_atleta\n",
    "\n",
    "\n",
    "# População inicial\n",
    "populacao = list(range(30))\n",
    "for i in range(0,30):\n",
    "    populacao[i]=[random.choice(dados.loc[dados.posicao=='Goleiro']['id']),\n",
    "                  random.choice(dados.loc[dados.posicao=='Zagueiro']['id']),\n",
    "                  random.choice(dados.loc[dados.posicao=='Zagueiro']['id']),\n",
    "                  random.choice(dados.loc[dados.posicao=='Lateral']['id']),\n",
    "                  random.choice(dados.loc[dados.posicao=='Lateral']['id']),\n",
    "                  random.choice(dados.loc[dados.posicao=='Meia']['id']),\n",
    "                  random.choice(dados.loc[dados.posicao=='Meia']['id']),\n",
    "                  random.choice(dados.loc[dados.posicao=='Meia']['id']),\n",
    "                  random.choice(dados.loc[dados.posicao=='Atacante']['id']),\n",
    "                  random.choice(dados.loc[dados.posicao=='Atacante']['id']),\n",
    "                  random.choice(dados.loc[dados.posicao=='Atacante']['id']),\n",
    "                  random.choice(dados.loc[dados.posicao=='Tecnico']['id'])]\n",
    "a = []\n",
    "c = []\n",
    "control = 0\n",
    "while (control==0):\n",
    "    # Função de custo\n",
    "    for k in range(500):  # Aqui é possível alterar o número de iterações\n",
    "        cartoletas = 125  # Pode alterar a quantidade de cartoletas disponíveis\n",
    "        for i in range(0,shape(populacao)[0]):\n",
    "            pontuacao = dados.iloc[populacao[i]].score_atleta.sum()/12\n",
    "            c.append(pontuacao)\n",
    "            if dados.iloc[populacao[i]].preco.sum() > cartoletas:\n",
    "                populacao[i].append(100)\n",
    "            else:\n",
    "                populacao[i].append(pontuacao)\n",
    "                if populacao[i][-1]>best:\n",
    "                    best = populacao[i][-1]\n",
    "                    melhor =  populacao[i]\n",
    "                    a.append(populacao[i][-1])\n",
    "    # Seleção\n",
    "        caixa = populacao\n",
    "        selecao = []\n",
    "        for i in range(0,12):\n",
    "            candidato1 = caixa[random.choice(len(caixa))]\n",
    "            candidato2 = candidato1\n",
    "            while (candidato1[0]==candidato2[0]):\n",
    "                candidato2 = caixa[random.choice(len(caixa))]   \n",
    "\n",
    "            if candidato1[-1]>candidato2[-1]:\n",
    "                selecao.append(candidato1)\n",
    "                caixa.remove(candidato1)\n",
    "            else:\n",
    "                selecao.append(candidato2)\n",
    "                caixa.remove(candidato2)\n",
    "    # Reprodução\n",
    "        geracao = []\n",
    "        while (len(selecao)!=0):\n",
    "            candidato1 = selecao[random.choice(len(selecao))]\n",
    "            candidato2 = candidato1\n",
    "            while (candidato1==candidato2):\n",
    "                candidato2 = selecao[random.choice(len(selecao))] \n",
    "            filho1 = candidato1[0:3]+candidato2[3:6]+candidato1[6:-1]\n",
    "            pos = random.choice(len(filho1))\n",
    "            if pos==Goleiro:\n",
    "                filho1[pos] = random.choice(dados[dados.posicao=='Goleiro'].id)\n",
    "            elif pos==Zagueiro:\n",
    "                filho1[pos] = random.choice(dados[dados.posicao=='Zagueiro'].id)\n",
    "            elif pos==Lateral:\n",
    "                filho1[pos] = random.choice(dados[dados.posicao=='Lateral'].id)\n",
    "            elif pos==Meia:\n",
    "                filho1[pos] = random.choice(dados[dados.posicao=='Meia'].id)\n",
    "            elif pos==Atacante:\n",
    "                filho1[pos] = random.choice(dados[dados.posicao=='Atacante'].id)\n",
    "            else:\n",
    "                filho1[pos] = random.choice(dados[dados.posicao=='Tecnico'].id)\n",
    "\n",
    "            filho2 = candidato2[0:3]+candidato1[3:6]+candidato2[6:-1]\n",
    "            pos = random.choice(len(filho2))\n",
    "            if pos==Goleiro:\n",
    "                filho2[pos] = random.choice(dados[dados.posicao=='Goleiro'].id)\n",
    "            elif pos==Zagueiro:\n",
    "                filho2[pos] = random.choice(dados[dados.posicao=='Zagueiro'].id)\n",
    "            elif pos==Lateral:\n",
    "                filho2[pos] = random.choice(dados[dados.posicao=='Lateral'].id)\n",
    "            elif pos==Meia:\n",
    "                filho2[pos] = random.choice(dados[dados.posicao=='Meia'].id)\n",
    "            elif pos==Atacante:\n",
    "                filho2[pos] = random.choice(dados[dados.posicao=='Atacante'].id)\n",
    "            else:\n",
    "                filho2[pos] = random.choice(dados[dados.posicao=='Tecnico'].id)\n",
    "\n",
    "            selecao.remove(candidato1)\n",
    "            selecao.remove(candidato2)\n",
    "            geracao.append(candidato1[:-1])\n",
    "            geracao.append(candidato2[:-1])\n",
    "    # Completa população\n",
    "        populacao = list(range(18))\n",
    "        for i in range(0,18):\n",
    "            populacao[i]=[random.choice(dados.loc[dados.posicao=='Goleiro']['id']),\n",
    "                          random.choice(dados.loc[dados.posicao=='Zagueiro']['id']),\n",
    "                          random.choice(dados.loc[dados.posicao=='Zagueiro']['id']),\n",
    "                          random.choice(dados.loc[dados.posicao=='Lateral']['id']),\n",
    "                          random.choice(dados.loc[dados.posicao=='Lateral']['id']),\n",
    "                          random.choice(dados.loc[dados.posicao=='Meia']['id']),\n",
    "                          random.choice(dados.loc[dados.posicao=='Meia']['id']),\n",
    "                          random.choice(dados.loc[dados.posicao=='Meia']['id']),\n",
    "                          random.choice(dados.loc[dados.posicao=='Atacante']['id']),\n",
    "                          random.choice(dados.loc[dados.posicao=='Atacante']['id']),\n",
    "                          random.choice(dados.loc[dados.posicao=='Atacante']['id']),\n",
    "                          random.choice(dados.loc[dados.posicao=='Tecnico']['id'])]\n",
    "\n",
    "        populacao = populacao + geracao\n",
    "    # Time escolhido    \n",
    "    time = pd.DataFrame()\n",
    "    for i in range(12):\n",
    "        time = time.append(dados[dados.id==melhor[i]])\n",
    "\n",
    "    if (time.duplicated().any()==True):\n",
    "        control = 0\n",
    "    else:\n",
    "        control = 1"
   ]
  },
  {
   "cell_type": "markdown",
   "metadata": {},
   "source": [
    "Score do Time: pontuação entre zero e um."
   ]
  },
  {
   "cell_type": "code",
   "execution_count": 7,
   "metadata": {},
   "outputs": [
    {
     "data": {
      "text/plain": [
       "0.4800413525963149"
      ]
     },
     "execution_count": 7,
     "metadata": {},
     "output_type": "execute_result"
    }
   ],
   "source": [
    "time.score_atleta.sum()/12"
   ]
  },
  {
   "cell_type": "markdown",
   "metadata": {},
   "source": [
    "Preço do Time"
   ]
  },
  {
   "cell_type": "code",
   "execution_count": 8,
   "metadata": {},
   "outputs": [
    {
     "data": {
      "text/plain": [
       "118.50999999999999"
      ]
     },
     "execution_count": 8,
     "metadata": {},
     "output_type": "execute_result"
    }
   ],
   "source": [
    "time.preco.sum()"
   ]
  },
  {
   "cell_type": "markdown",
   "metadata": {},
   "source": [
    "Performance: score de todos os times gerados"
   ]
  },
  {
   "cell_type": "code",
   "execution_count": 9,
   "metadata": {},
   "outputs": [
    {
     "data": {
      "text/plain": [
       "Text(0, 0.5, 'Número de Iterações')"
      ]
     },
     "execution_count": 9,
     "metadata": {},
     "output_type": "execute_result"
    },
    {
     "data": {
      "image/png": "[encoded data removed]",
      "text/plain": [
       "<Figure size 432x288 with 1 Axes>"
      ]
     },
     "metadata": {
      "needs_background": "light"
     },
     "output_type": "display_data"
    }
   ],
   "source": [
    "plt.hist(x=c, bins='auto', color='#0504aa', alpha=0.7, rwidth=0.85)\n",
    "plt.xlabel('Score do time')\n",
    "plt.ylabel('Número de Iterações')"
   ]
  },
  {
   "cell_type": "markdown",
   "metadata": {},
   "source": [
    "Performance: score dos melhores times ao longo das iterações (convergência)"
   ]
  },
  {
   "cell_type": "code",
   "execution_count": 10,
   "metadata": {},
   "outputs": [
    {
     "data": {
      "text/plain": [
       "Text(0.5, 0, 'Aumento do Score')"
      ]
     },
     "execution_count": 10,
     "metadata": {},
     "output_type": "execute_result"
    },
    {
     "data": {
      "image/png": "[encoded data removed]",
      "text/plain": [
       "<Figure size 432x288 with 1 Axes>"
      ]
     },
     "metadata": {
      "needs_background": "light"
     },
     "output_type": "display_data"
    }
   ],
   "source": [
    "plot(a)\n",
    "plt.ylabel('Score do time')\n",
    "plt.xlabel('Aumento do Score')"
   ]
  },
  {
   "cell_type": "markdown",
   "metadata": {},
   "source": [
    "O time escalado"
   ]
  },
  {
   "cell_type": "code",
   "execution_count": 11,
   "metadata": {},
   "outputs": [
    {
     "data": {
      "text/html": [
       "<div>\n",
       "<style scoped>\n",
       "    .dataframe tbody tr th:only-of-type {\n",
       "        vertical-align: middle;\n",
       "    }\n",
       "\n",
       "    .dataframe tbody tr th {\n",
       "        vertical-align: top;\n",
       "    }\n",
       "\n",
       "    .dataframe thead th {\n",
       "        text-align: right;\n",
       "    }\n",
       "</style>\n",
       "<table border=\"1\" class=\"dataframe\">\n",
       "  <thead>\n",
       "    <tr style=\"text-align: right;\">\n",
       "      <th></th>\n",
       "      <th>id</th>\n",
       "      <th>apelido</th>\n",
       "      <th>media</th>\n",
       "      <th>posicao</th>\n",
       "      <th>preco</th>\n",
       "      <th>pontos</th>\n",
       "      <th>jogos</th>\n",
       "      <th>score_atleta</th>\n",
       "    </tr>\n",
       "  </thead>\n",
       "  <tbody>\n",
       "    <tr>\n",
       "      <th>70</th>\n",
       "      <td>70</td>\n",
       "      <td>Daniel</td>\n",
       "      <td>5.12</td>\n",
       "      <td>Goleiro</td>\n",
       "      <td>8.71</td>\n",
       "      <td>7.00</td>\n",
       "      <td>19</td>\n",
       "      <td>0.552741</td>\n",
       "    </tr>\n",
       "    <tr>\n",
       "      <th>7</th>\n",
       "      <td>7</td>\n",
       "      <td>Víctor Cuesta</td>\n",
       "      <td>3.27</td>\n",
       "      <td>Zagueiro</td>\n",
       "      <td>8.80</td>\n",
       "      <td>7.80</td>\n",
       "      <td>20</td>\n",
       "      <td>0.480231</td>\n",
       "    </tr>\n",
       "    <tr>\n",
       "      <th>75</th>\n",
       "      <td>75</td>\n",
       "      <td>Gabriel Lacerda</td>\n",
       "      <td>3.71</td>\n",
       "      <td>Zagueiro</td>\n",
       "      <td>5.13</td>\n",
       "      <td>5.00</td>\n",
       "      <td>13</td>\n",
       "      <td>0.390978</td>\n",
       "    </tr>\n",
       "    <tr>\n",
       "      <th>198</th>\n",
       "      <td>198</td>\n",
       "      <td>Fagner</td>\n",
       "      <td>3.82</td>\n",
       "      <td>Lateral</td>\n",
       "      <td>11.61</td>\n",
       "      <td>0.70</td>\n",
       "      <td>21</td>\n",
       "      <td>0.438551</td>\n",
       "    </tr>\n",
       "    <tr>\n",
       "      <th>113</th>\n",
       "      <td>113</td>\n",
       "      <td>Vanderson</td>\n",
       "      <td>5.32</td>\n",
       "      <td>Lateral</td>\n",
       "      <td>12.06</td>\n",
       "      <td>15.70</td>\n",
       "      <td>15</td>\n",
       "      <td>0.616200</td>\n",
       "    </tr>\n",
       "    <tr>\n",
       "      <th>189</th>\n",
       "      <td>189</td>\n",
       "      <td>Terans</td>\n",
       "      <td>5.50</td>\n",
       "      <td>Meia</td>\n",
       "      <td>11.46</td>\n",
       "      <td>0.00</td>\n",
       "      <td>18</td>\n",
       "      <td>0.480927</td>\n",
       "    </tr>\n",
       "    <tr>\n",
       "      <th>38</th>\n",
       "      <td>38</td>\n",
       "      <td>Nikão</td>\n",
       "      <td>4.76</td>\n",
       "      <td>Meia</td>\n",
       "      <td>10.71</td>\n",
       "      <td>12.20</td>\n",
       "      <td>14</td>\n",
       "      <td>0.536923</td>\n",
       "    </tr>\n",
       "    <tr>\n",
       "      <th>2</th>\n",
       "      <td>2</td>\n",
       "      <td>Patrick</td>\n",
       "      <td>4.02</td>\n",
       "      <td>Meia</td>\n",
       "      <td>9.81</td>\n",
       "      <td>5.80</td>\n",
       "      <td>19</td>\n",
       "      <td>0.483828</td>\n",
       "    </tr>\n",
       "    <tr>\n",
       "      <th>80</th>\n",
       "      <td>80</td>\n",
       "      <td>Mike</td>\n",
       "      <td>1.83</td>\n",
       "      <td>Atacante</td>\n",
       "      <td>2.35</td>\n",
       "      <td>2.70</td>\n",
       "      <td>15</td>\n",
       "      <td>0.293096</td>\n",
       "    </tr>\n",
       "    <tr>\n",
       "      <th>203</th>\n",
       "      <td>203</td>\n",
       "      <td>Marinho</td>\n",
       "      <td>5.05</td>\n",
       "      <td>Atacante</td>\n",
       "      <td>16.81</td>\n",
       "      <td>3.10</td>\n",
       "      <td>14</td>\n",
       "      <td>0.448087</td>\n",
       "    </tr>\n",
       "    <tr>\n",
       "      <th>209</th>\n",
       "      <td>209</td>\n",
       "      <td>Renato Kayzer</td>\n",
       "      <td>2.19</td>\n",
       "      <td>Atacante</td>\n",
       "      <td>9.38</td>\n",
       "      <td>22.00</td>\n",
       "      <td>18</td>\n",
       "      <td>0.564596</td>\n",
       "    </tr>\n",
       "    <tr>\n",
       "      <th>200</th>\n",
       "      <td>200</td>\n",
       "      <td>Abel Ferreira</td>\n",
       "      <td>4.15</td>\n",
       "      <td>Tecnico</td>\n",
       "      <td>11.68</td>\n",
       "      <td>2.39</td>\n",
       "      <td>21</td>\n",
       "      <td>0.474338</td>\n",
       "    </tr>\n",
       "  </tbody>\n",
       "</table>\n",
       "</div>"
      ],
      "text/plain": [
       "      id          apelido  media   posicao  preco  pontos  jogos  score_atleta\n",
       "70    70           Daniel   5.12   Goleiro   8.71    7.00     19      0.552741\n",
       "7      7    Víctor Cuesta   3.27  Zagueiro   8.80    7.80     20      0.480231\n",
       "75    75  Gabriel Lacerda   3.71  Zagueiro   5.13    5.00     13      0.390978\n",
       "198  198           Fagner   3.82   Lateral  11.61    0.70     21      0.438551\n",
       "113  113        Vanderson   5.32   Lateral  12.06   15.70     15      0.616200\n",
       "189  189           Terans   5.50      Meia  11.46    0.00     18      0.480927\n",
       "38    38            Nikão   4.76      Meia  10.71   12.20     14      0.536923\n",
       "2      2          Patrick   4.02      Meia   9.81    5.80     19      0.483828\n",
       "80    80             Mike   1.83  Atacante   2.35    2.70     15      0.293096\n",
       "203  203          Marinho   5.05  Atacante  16.81    3.10     14      0.448087\n",
       "209  209    Renato Kayzer   2.19  Atacante   9.38   22.00     18      0.564596\n",
       "200  200    Abel Ferreira   4.15   Tecnico  11.68    2.39     21      0.474338"
      ]
     },
     "execution_count": 11,
     "metadata": {},
     "output_type": "execute_result"
    }
   ],
   "source": [
    "time"
   ]
  }
 ],
 "metadata": {
  "kernelspec": {
   "display_name": "Python 3",
   "language": "python",
   "name": "python3"
  },
  "language_info": {
   "codemirror_mode": {
    "name": "ipython",
    "version": 3
   },
   "file_extension": ".py",
   "mimetype": "text/x-python",
   "name": "python",
   "nbconvert_exporter": "python",
   "pygments_lexer": "ipython3",
   "version": "3.8.5"
  }
 },
 "nbformat": 4,
 "nbformat_minor": 4
}
