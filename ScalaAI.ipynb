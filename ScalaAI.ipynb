{
 "cells": [
  {
   "cell_type": "markdown",
   "metadata": {},
   "source": [
    "# <font color='blue'> <center> ScalaAI</center> </font> \n",
    "\n",
    "## <center> Escalação Automática e Otimizada de Times do CartolaFC - 2021 </center> \n",
    "### Versão Teste - Escalação na Formação 4-3-3\n",
    "\n",
    "<img src = \"https://github.com/lucianogarim/ScalaAI/blob/main/sca.jpg?raw=true\" height = \"350\" width=\"800\">"
   ]
  },
  {
   "cell_type": "markdown",
   "metadata": {},
   "source": [
    "Importação dos pacotes necessários"
   ]
  },
  {
   "cell_type": "code",
   "execution_count": 1,
   "metadata": {},
   "outputs": [
    {
     "name": "stdout",
     "output_type": "stream",
     "text": [
      "Using matplotlib backend: Qt5Agg\n",
      "Populating the interactive namespace from numpy and matplotlib\n"
     ]
    }
   ],
   "source": [
    "%pylab\n",
    "import pandas as pd\n",
    "import requests\n",
    "import json\n",
    "import matplotlib.pyplot as plt"
   ]
  },
  {
   "cell_type": "markdown",
   "metadata": {},
   "source": [
    "Leitura dos dados da API do CartolaFC"
   ]
  },
  {
   "cell_type": "code",
   "execution_count": 2,
   "metadata": {},
   "outputs": [],
   "source": [
    "response = requests.get('https://api.cartolafc.globo.com/atletas/mercado')\n",
    "data = json.loads(response.text)\n",
    "atletas = pd.DataFrame(data['atletas'])\n",
    "times = pd.DataFrame(data['clubes']).T"
   ]
  },
  {
   "cell_type": "markdown",
   "metadata": {},
   "source": [
    "Remove as colunas desnecessárias"
   ]
  },
  {
   "cell_type": "code",
   "execution_count": 3,
   "metadata": {},
   "outputs": [],
   "source": [
    "atletas.drop(['atleta_id','scout', 'slug', 'apelido_abreviado', 'nome', 'foto'], axis=1, inplace=True)\n",
    "times.drop(['abreviacao', 'escudos', 'nome_fantasia'], axis=1, inplace=True)\n",
    "atletas = atletas[['apelido', 'clube_id', 'posicao_id', 'preco_num', 'pontos_num', 'variacao_num', \n",
    "                   'media_num', 'rodada_id', 'jogos_num','status_id']]"
   ]
  },
  {
   "cell_type": "markdown",
   "metadata": {},
   "source": [
    "Organizando os dados"
   ]
  },
  {
   "cell_type": "code",
   "execution_count": 4,
   "metadata": {},
   "outputs": [],
   "source": [
    "atletas.posicao_id = atletas.posicao_id.map({1:'Goleiro', 2:'Lateral', 3:'Zagueiro', 4:'Meia', 5:'Atacante', 6:'Tecnico'})\n",
    "times_id = times['id'].to_list()\n",
    "times_nome = times['nome'].to_list()\n",
    "dictionary = dict(zip(times_id, times_nome))\n",
    "atletas.clube_id = atletas.clube_id.map(dictionary)\n",
    "#renomeia as colunas\n",
    "atletas.rename(columns={'clube_id': 'clube', 'posicao_id': 'posicao', 'preco_num': 'preco', 'pontos_num': 'pontos',\n",
    "                        'variacao_num': 'variacao', 'media_num': 'media', 'rodada_id': 'rodada',\n",
    "                        'jogos_num': 'jogos'}, inplace=True)"
   ]
  },
  {
   "cell_type": "markdown",
   "metadata": {},
   "source": [
    "Considerando a escalação de apenas jogadores prováveis"
   ]
  },
  {
   "cell_type": "code",
   "execution_count": 5,
   "metadata": {},
   "outputs": [
    {
     "data": {
      "text/html": [
       "<div>\n",
       "<style scoped>\n",
       "    .dataframe tbody tr th:only-of-type {\n",
       "        vertical-align: middle;\n",
       "    }\n",
       "\n",
       "    .dataframe tbody tr th {\n",
       "        vertical-align: top;\n",
       "    }\n",
       "\n",
       "    .dataframe thead th {\n",
       "        text-align: right;\n",
       "    }\n",
       "</style>\n",
       "<table border=\"1\" class=\"dataframe\">\n",
       "  <thead>\n",
       "    <tr style=\"text-align: right;\">\n",
       "      <th></th>\n",
       "      <th>index</th>\n",
       "      <th>apelido</th>\n",
       "      <th>clube</th>\n",
       "      <th>posicao</th>\n",
       "      <th>preco</th>\n",
       "      <th>pontos</th>\n",
       "      <th>variacao</th>\n",
       "      <th>media</th>\n",
       "      <th>rodada</th>\n",
       "      <th>jogos</th>\n",
       "    </tr>\n",
       "  </thead>\n",
       "  <tbody>\n",
       "    <tr>\n",
       "      <th>0</th>\n",
       "      <td>0</td>\n",
       "      <td>Fagner</td>\n",
       "      <td>Corinthians</td>\n",
       "      <td>Lateral</td>\n",
       "      <td>11.99</td>\n",
       "      <td>0</td>\n",
       "      <td>-0.06</td>\n",
       "      <td>3.98</td>\n",
       "      <td>21</td>\n",
       "      <td>20</td>\n",
       "    </tr>\n",
       "    <tr>\n",
       "      <th>1</th>\n",
       "      <td>1</td>\n",
       "      <td>Weverton</td>\n",
       "      <td>Palmeiras</td>\n",
       "      <td>Goleiro</td>\n",
       "      <td>15.79</td>\n",
       "      <td>0</td>\n",
       "      <td>1.78</td>\n",
       "      <td>3.85</td>\n",
       "      <td>21</td>\n",
       "      <td>10</td>\n",
       "    </tr>\n",
       "    <tr>\n",
       "      <th>2</th>\n",
       "      <td>2</td>\n",
       "      <td>Thiago Heleno</td>\n",
       "      <td>Athlético-PR</td>\n",
       "      <td>Zagueiro</td>\n",
       "      <td>9.04</td>\n",
       "      <td>0</td>\n",
       "      <td>0.00</td>\n",
       "      <td>2.49</td>\n",
       "      <td>21</td>\n",
       "      <td>15</td>\n",
       "    </tr>\n",
       "    <tr>\n",
       "      <th>3</th>\n",
       "      <td>3</td>\n",
       "      <td>Richard</td>\n",
       "      <td>Ceará</td>\n",
       "      <td>Goleiro</td>\n",
       "      <td>8.31</td>\n",
       "      <td>0</td>\n",
       "      <td>1.31</td>\n",
       "      <td>4.31</td>\n",
       "      <td>21</td>\n",
       "      <td>16</td>\n",
       "    </tr>\n",
       "    <tr>\n",
       "      <th>4</th>\n",
       "      <td>4</td>\n",
       "      <td>Ferreira</td>\n",
       "      <td>Grêmio</td>\n",
       "      <td>Atacante</td>\n",
       "      <td>10.44</td>\n",
       "      <td>0</td>\n",
       "      <td>-0.25</td>\n",
       "      <td>4.94</td>\n",
       "      <td>21</td>\n",
       "      <td>11</td>\n",
       "    </tr>\n",
       "    <tr>\n",
       "      <th>...</th>\n",
       "      <td>...</td>\n",
       "      <td>...</td>\n",
       "      <td>...</td>\n",
       "      <td>...</td>\n",
       "      <td>...</td>\n",
       "      <td>...</td>\n",
       "      <td>...</td>\n",
       "      <td>...</td>\n",
       "      <td>...</td>\n",
       "      <td>...</td>\n",
       "    </tr>\n",
       "    <tr>\n",
       "      <th>210</th>\n",
       "      <td>210</td>\n",
       "      <td>Michel</td>\n",
       "      <td>Juventude</td>\n",
       "      <td>Lateral</td>\n",
       "      <td>3.52</td>\n",
       "      <td>0</td>\n",
       "      <td>-0.07</td>\n",
       "      <td>1.94</td>\n",
       "      <td>21</td>\n",
       "      <td>16</td>\n",
       "    </tr>\n",
       "    <tr>\n",
       "      <th>211</th>\n",
       "      <td>211</td>\n",
       "      <td>Pepê</td>\n",
       "      <td>Cuiabá</td>\n",
       "      <td>Meia</td>\n",
       "      <td>9.37</td>\n",
       "      <td>0</td>\n",
       "      <td>0.00</td>\n",
       "      <td>3.70</td>\n",
       "      <td>21</td>\n",
       "      <td>16</td>\n",
       "    </tr>\n",
       "    <tr>\n",
       "      <th>212</th>\n",
       "      <td>212</td>\n",
       "      <td>Marlon</td>\n",
       "      <td>América-MG</td>\n",
       "      <td>Lateral</td>\n",
       "      <td>7.01</td>\n",
       "      <td>0</td>\n",
       "      <td>1.33</td>\n",
       "      <td>6.67</td>\n",
       "      <td>21</td>\n",
       "      <td>6</td>\n",
       "    </tr>\n",
       "    <tr>\n",
       "      <th>213</th>\n",
       "      <td>213</td>\n",
       "      <td>Vina</td>\n",
       "      <td>Ceará</td>\n",
       "      <td>Meia</td>\n",
       "      <td>11.27</td>\n",
       "      <td>0</td>\n",
       "      <td>0.78</td>\n",
       "      <td>1.80</td>\n",
       "      <td>21</td>\n",
       "      <td>18</td>\n",
       "    </tr>\n",
       "    <tr>\n",
       "      <th>214</th>\n",
       "      <td>214</td>\n",
       "      <td>Luiz Otávio</td>\n",
       "      <td>Ceará</td>\n",
       "      <td>Zagueiro</td>\n",
       "      <td>7.27</td>\n",
       "      <td>0</td>\n",
       "      <td>0.86</td>\n",
       "      <td>3.92</td>\n",
       "      <td>21</td>\n",
       "      <td>6</td>\n",
       "    </tr>\n",
       "  </tbody>\n",
       "</table>\n",
       "<p>215 rows × 10 columns</p>\n",
       "</div>"
      ],
      "text/plain": [
       "     index        apelido         clube   posicao  preco  pontos  variacao  \\\n",
       "0        0         Fagner   Corinthians   Lateral  11.99       0     -0.06   \n",
       "1        1       Weverton     Palmeiras   Goleiro  15.79       0      1.78   \n",
       "2        2  Thiago Heleno  Athlético-PR  Zagueiro   9.04       0      0.00   \n",
       "3        3        Richard         Ceará   Goleiro   8.31       0      1.31   \n",
       "4        4       Ferreira        Grêmio  Atacante  10.44       0     -0.25   \n",
       "..     ...            ...           ...       ...    ...     ...       ...   \n",
       "210    210         Michel     Juventude   Lateral   3.52       0     -0.07   \n",
       "211    211           Pepê        Cuiabá      Meia   9.37       0      0.00   \n",
       "212    212        Marlon     América-MG   Lateral   7.01       0      1.33   \n",
       "213    213           Vina         Ceará      Meia  11.27       0      0.78   \n",
       "214    214    Luiz Otávio         Ceará  Zagueiro   7.27       0      0.86   \n",
       "\n",
       "     media  rodada  jogos  \n",
       "0     3.98      21     20  \n",
       "1     3.85      21     10  \n",
       "2     2.49      21     15  \n",
       "3     4.31      21     16  \n",
       "4     4.94      21     11  \n",
       "..     ...     ...    ...  \n",
       "210   1.94      21     16  \n",
       "211   3.70      21     16  \n",
       "212   6.67      21      6  \n",
       "213   1.80      21     18  \n",
       "214   3.92      21      6  \n",
       "\n",
       "[215 rows x 10 columns]"
      ]
     },
     "execution_count": 5,
     "metadata": {},
     "output_type": "execute_result"
    }
   ],
   "source": [
    "atletas = atletas[atletas.status_id==7].reset_index()\n",
    "atletas.drop(['index','status_id'], axis=1, inplace=True)\n",
    "atletas.reset_index()"
   ]
  },
  {
   "cell_type": "markdown",
   "metadata": {},
   "source": [
    "# Algoritmo Genético para Escalação Automática"
   ]
  },
  {
   "cell_type": "code",
   "execution_count": 6,
   "metadata": {},
   "outputs": [
    {
     "ename": "NameError",
     "evalue": "name 'melhor' is not defined",
     "output_type": "error",
     "traceback": [
      "\u001b[1;31m---------------------------------------------------------------------------\u001b[0m",
      "\u001b[1;31mNameError\u001b[0m                                 Traceback (most recent call last)",
      "\u001b[1;32m<ipython-input-6-047899d90cfb>\u001b[0m in \u001b[0;36m<module>\u001b[1;34m\u001b[0m\n\u001b[0;32m    137\u001b[0m     \u001b[0mtime\u001b[0m \u001b[1;33m=\u001b[0m \u001b[0mpd\u001b[0m\u001b[1;33m.\u001b[0m\u001b[0mDataFrame\u001b[0m\u001b[1;33m(\u001b[0m\u001b[1;33m)\u001b[0m\u001b[1;33m\u001b[0m\u001b[1;33m\u001b[0m\u001b[0m\n\u001b[0;32m    138\u001b[0m     \u001b[1;32mfor\u001b[0m \u001b[0mi\u001b[0m \u001b[1;32min\u001b[0m \u001b[0mrange\u001b[0m\u001b[1;33m(\u001b[0m\u001b[1;36m12\u001b[0m\u001b[1;33m)\u001b[0m\u001b[1;33m:\u001b[0m\u001b[1;33m\u001b[0m\u001b[1;33m\u001b[0m\u001b[0m\n\u001b[1;32m--> 139\u001b[1;33m         \u001b[0mtime\u001b[0m \u001b[1;33m=\u001b[0m \u001b[0mtime\u001b[0m\u001b[1;33m.\u001b[0m\u001b[0mappend\u001b[0m\u001b[1;33m(\u001b[0m\u001b[0mdados\u001b[0m\u001b[1;33m[\u001b[0m\u001b[0mdados\u001b[0m\u001b[1;33m.\u001b[0m\u001b[0mid\u001b[0m\u001b[1;33m==\u001b[0m\u001b[0mmelhor\u001b[0m\u001b[1;33m[\u001b[0m\u001b[0mi\u001b[0m\u001b[1;33m]\u001b[0m\u001b[1;33m]\u001b[0m\u001b[1;33m)\u001b[0m\u001b[1;33m\u001b[0m\u001b[1;33m\u001b[0m\u001b[0m\n\u001b[0m\u001b[0;32m    140\u001b[0m \u001b[1;33m\u001b[0m\u001b[0m\n\u001b[0;32m    141\u001b[0m     \u001b[1;32mif\u001b[0m \u001b[1;33m(\u001b[0m\u001b[0mtime\u001b[0m\u001b[1;33m.\u001b[0m\u001b[0mduplicated\u001b[0m\u001b[1;33m(\u001b[0m\u001b[1;33m)\u001b[0m\u001b[1;33m.\u001b[0m\u001b[0many\u001b[0m\u001b[1;33m(\u001b[0m\u001b[1;33m)\u001b[0m\u001b[1;33m==\u001b[0m\u001b[1;32mTrue\u001b[0m\u001b[1;33m)\u001b[0m\u001b[1;33m:\u001b[0m\u001b[1;33m\u001b[0m\u001b[1;33m\u001b[0m\u001b[0m\n",
      "\u001b[1;31mNameError\u001b[0m: name 'melhor' is not defined"
     ]
    }
   ],
   "source": [
    "dados = pd.DataFrame(atletas[['apelido','media','posicao','preco','pontos','jogos']])\n",
    "dados.index = dados.index.set_names(['id'])\n",
    "dados = dados.reset_index()\n",
    "\n",
    "best = 0\n",
    "Goleiro = 1\n",
    "Zagueiro = 2\n",
    "Zagueiro = 3\n",
    "Lateral = 4\n",
    "Lateral = 5\n",
    "Meia = 6\n",
    "Meia = 7\n",
    "Meia = 8\n",
    "Atacante = 9\n",
    "Atacante = 10\n",
    "Atacante = 11\n",
    "Tecnico = 12\n",
    "\n",
    "peso_media = 0.5\n",
    "peso_jogos = 0.25\n",
    "peso_pontos = 0.25\n",
    "\n",
    "score_atleta = ((dados.media/dados.media.max()) * peso_media + (dados.jogos/dados.jogos.max()) * peso_jogos \n",
    "                + (dados.pontos/dados.pontos.max()) * peso_pontos)\n",
    "dados['score_atleta'] = score_atleta\n",
    "\n",
    "\n",
    "# População inicial\n",
    "populacao = list(range(30))\n",
    "for i in range(0,30):\n",
    "    populacao[i]=[random.choice(dados.loc[dados.posicao=='Goleiro']['id']),\n",
    "                  random.choice(dados.loc[dados.posicao=='Zagueiro']['id']),\n",
    "                  random.choice(dados.loc[dados.posicao=='Zagueiro']['id']),\n",
    "                  random.choice(dados.loc[dados.posicao=='Lateral']['id']),\n",
    "                  random.choice(dados.loc[dados.posicao=='Lateral']['id']),\n",
    "                  random.choice(dados.loc[dados.posicao=='Meia']['id']),\n",
    "                  random.choice(dados.loc[dados.posicao=='Meia']['id']),\n",
    "                  random.choice(dados.loc[dados.posicao=='Meia']['id']),\n",
    "                  random.choice(dados.loc[dados.posicao=='Atacante']['id']),\n",
    "                  random.choice(dados.loc[dados.posicao=='Atacante']['id']),\n",
    "                  random.choice(dados.loc[dados.posicao=='Atacante']['id']),\n",
    "                  random.choice(dados.loc[dados.posicao=='Tecnico']['id'])]\n",
    "a = []\n",
    "c = []\n",
    "control = 0\n",
    "while (control==0):\n",
    "    # Função de custo\n",
    "    for k in range(200):\n",
    "        cartoletas = 105\n",
    "        for i in range(0,shape(populacao)[0]):\n",
    "            pontuacao = dados.iloc[populacao[i]].score_atleta.sum()/12\n",
    "            c.append(pontuacao)\n",
    "            if dados.iloc[populacao[i]].preco.sum() > cartoletas:\n",
    "                populacao[i].append(100)\n",
    "            else:\n",
    "                populacao[i].append(pontuacao)\n",
    "                if populacao[i][-1]>best:\n",
    "                    best = populacao[i][-1]\n",
    "                    melhor =  populacao[i]\n",
    "                    a.append(populacao[i][-1])\n",
    "    # Seleção\n",
    "        caixa = populacao\n",
    "        selecao = []\n",
    "        for i in range(0,12):\n",
    "            candidato1 = caixa[random.choice(len(caixa))]\n",
    "            candidato2 = candidato1\n",
    "            while (candidato1[0]==candidato2[0]):\n",
    "                candidato2 = caixa[random.choice(len(caixa))]   #até aqui ok\n",
    "\n",
    "            if candidato1[-1]>candidato2[-1]:\n",
    "                selecao.append(candidato1)\n",
    "                caixa.remove(candidato1)\n",
    "            else:\n",
    "                selecao.append(candidato2)\n",
    "                caixa.remove(candidato2)\n",
    "    # Reprodução\n",
    "        geracao = []\n",
    "        while (len(selecao)!=0):\n",
    "            candidato1 = selecao[random.choice(len(selecao))]\n",
    "            candidato2 = candidato1\n",
    "            while (candidato1==candidato2):\n",
    "                candidato2 = selecao[random.choice(len(selecao))] \n",
    "            filho1 = candidato1[0:3]+candidato2[3:6]+candidato1[6:-1]\n",
    "            pos = random.choice(len(filho1))\n",
    "            if pos==Goleiro:\n",
    "                filho1[pos] = random.choice(dados[dados.posicao=='Goleiro'].id)\n",
    "            elif pos==Zagueiro:\n",
    "                filho1[pos] = random.choice(dados[dados.posicao=='Zagueiro'].id)\n",
    "            elif pos==Lateral:\n",
    "                filho1[pos] = random.choice(dados[dados.posicao=='Lateral'].id)\n",
    "            elif pos==Meia:\n",
    "                filho1[pos] = random.choice(dados[dados.posicao=='Meia'].id)\n",
    "            elif pos==Atacante:\n",
    "                filho1[pos] = random.choice(dados[dados.posicao=='Atacante'].id)\n",
    "            else:\n",
    "                filho1[pos] = random.choice(dados[dados.posicao=='Tecnico'].id)\n",
    "\n",
    "            filho2 = candidato2[0:3]+candidato1[3:6]+candidato2[6:-1]\n",
    "            pos = random.choice(len(filho2))\n",
    "            if pos==Goleiro:\n",
    "                filho2[pos] = random.choice(dados[dados.posicao=='Goleiro'].id)\n",
    "            elif pos==Zagueiro:\n",
    "                filho2[pos] = random.choice(dados[dados.posicao=='Zagueiro'].id)\n",
    "            elif pos==Lateral:\n",
    "                filho2[pos] = random.choice(dados[dados.posicao=='Lateral'].id)\n",
    "            elif pos==Meia:\n",
    "                filho2[pos] = random.choice(dados[dados.posicao=='Meia'].id)\n",
    "            elif pos==Atacante:\n",
    "                filho2[pos] = random.choice(dados[dados.posicao=='Atacante'].id)\n",
    "            else:\n",
    "                filho2[pos] = random.choice(dados[dados.posicao=='Tecnico'].id)\n",
    "\n",
    "            selecao.remove(candidato1)\n",
    "            selecao.remove(candidato2)\n",
    "            geracao.append(candidato1[:-1])\n",
    "            geracao.append(candidato2[:-1])\n",
    "    # Completa população\n",
    "        populacao = list(range(18))\n",
    "        for i in range(0,18):\n",
    "            populacao[i]=[random.choice(dados.loc[dados.posicao=='Goleiro']['id']),\n",
    "                          random.choice(dados.loc[dados.posicao=='Zagueiro']['id']),\n",
    "                          random.choice(dados.loc[dados.posicao=='Zagueiro']['id']),\n",
    "                          random.choice(dados.loc[dados.posicao=='Lateral']['id']),\n",
    "                          random.choice(dados.loc[dados.posicao=='Lateral']['id']),\n",
    "                          random.choice(dados.loc[dados.posicao=='Meia']['id']),\n",
    "                          random.choice(dados.loc[dados.posicao=='Meia']['id']),\n",
    "                          random.choice(dados.loc[dados.posicao=='Meia']['id']),\n",
    "                          random.choice(dados.loc[dados.posicao=='Atacante']['id']),\n",
    "                          random.choice(dados.loc[dados.posicao=='Atacante']['id']),\n",
    "                          random.choice(dados.loc[dados.posicao=='Atacante']['id']),\n",
    "                          random.choice(dados.loc[dados.posicao=='Tecnico']['id'])]\n",
    "\n",
    "        populacao = populacao + geracao\n",
    "    # Time escolhido    \n",
    "    time = pd.DataFrame()\n",
    "    for i in range(12):\n",
    "        time = time.append(dados[dados.id==melhor[i]])\n",
    "\n",
    "    if (time.duplicated().any()==True):\n",
    "        control = 0\n",
    "    else:\n",
    "        control = 1"
   ]
  },
  {
   "cell_type": "markdown",
   "metadata": {},
   "source": [
    "Score do Time: pontuação entre zero e um."
   ]
  },
  {
   "cell_type": "code",
   "execution_count": null,
   "metadata": {},
   "outputs": [],
   "source": [
    "time.score_atleta.sum()/12"
   ]
  },
  {
   "cell_type": "markdown",
   "metadata": {},
   "source": [
    "Preço do Time"
   ]
  },
  {
   "cell_type": "code",
   "execution_count": null,
   "metadata": {},
   "outputs": [],
   "source": [
    "time.preco.sum()"
   ]
  },
  {
   "cell_type": "markdown",
   "metadata": {},
   "source": [
    "Performance: score de todos os times gerados"
   ]
  },
  {
   "cell_type": "code",
   "execution_count": null,
   "metadata": {},
   "outputs": [],
   "source": [
    "plot(c)"
   ]
  },
  {
   "cell_type": "markdown",
   "metadata": {},
   "source": [
    "Performance: score dos melhores times ao longo das iterações (convergência)"
   ]
  },
  {
   "cell_type": "code",
   "execution_count": null,
   "metadata": {},
   "outputs": [],
   "source": [
    "plot(a)"
   ]
  },
  {
   "cell_type": "markdown",
   "metadata": {},
   "source": [
    "O time escalado"
   ]
  },
  {
   "cell_type": "code",
   "execution_count": null,
   "metadata": {},
   "outputs": [],
   "source": [
    "time"
   ]
  }
 ],
 "metadata": {
  "kernelspec": {
   "display_name": "Python 3",
   "language": "python",
   "name": "python3"
  },
  "language_info": {
   "codemirror_mode": {
    "name": "ipython",
    "version": 3
   },
   "file_extension": ".py",
   "mimetype": "text/x-python",
   "name": "python",
   "nbconvert_exporter": "python",
   "pygments_lexer": "ipython3",
   "version": "3.8.5"
  }
 },
 "nbformat": 4,
 "nbformat_minor": 4
}
